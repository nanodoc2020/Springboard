{
 "cells": [
  {
   "cell_type": "markdown",
   "metadata": {},
   "source": [
    "# K-Nearest Neighbors on the Seeds Dataset\n",
    "Created on Sat Jan 18 21:42:54 2020\n",
    "Seeds is a k-Nearest Neighbors model that attempts to classify a type of \n",
    "seed as either Kama, Rosa, or Canadian wheat by using seven geometric \n",
    "properties of the seeds. They are, according to their columns, 1)area \n",
    "2)perimeter 3)compactness (4*pi*A/p^2) 4)length 5)width 6)asymmetry \n",
    "coefficient 7)groove length 8)class. The data set used is \"seeds\" from the\n",
    "UCI Machine Learning Repository. "
   ]
  },
  {
   "cell_type": "code",
   "execution_count": 1,
   "metadata": {},
   "outputs": [],
   "source": [
    "import pandas as pd\n",
    "import numpy as np\n",
    "import matplotlib.pyplot as plt\n",
    "import matplotlib.image as img\n",
    "from sklearn.neighbors import KNeighborsClassifier\n",
    "from sklearn.model_selection import train_test_split"
   ]
  },
  {
   "cell_type": "code",
   "execution_count": 3,
   "metadata": {},
   "outputs": [],
   "source": [
    "#Create a list for the class names:\n",
    "classes=['Kama','Rosa','Canadian']\n",
    "\n",
    "#Import the training set data and create a DataFrame:\n",
    "seeds=pd.read_csv('seeds.csv')\n",
    "\n",
    "#Assign the proper columns:\n",
    "X=seeds.drop('class', axis=1).values\n",
    "y=seeds['class'].values\n",
    "\n",
    "#Split the data into training and test sets:\n",
    "X_train, X_test, y_train, y_test= train_test_split(X,y,test_size=0.2,\\\n",
    "                                                   random_state=11,stratify=y)\n"
   ]
  },
  {
   "cell_type": "code",
   "execution_count": 4,
   "metadata": {},
   "outputs": [
    {
     "data": {
      "image/png": "[encoded data removed]",
      "text/plain": [
       "<Figure size 432x288 with 1 Axes>"
      ]
     },
     "metadata": {
      "needs_background": "light"
     },
     "output_type": "display_data"
    }
   ],
   "source": [
    "#Choose the best value for number of nearest neighbors:\n",
    "\"\"\"The best score is for when n_neighbors=5 or 7. \"\"\"\n",
    "scr_lst=[]\n",
    "for n in range(3,15):\n",
    "    knn=KNeighborsClassifier(n_neighbors=n)\n",
    "    knn.fit(X_train,y_train)\n",
    "    scr_lst.append(knn.score(X_test,y_test))\n",
    "\n",
    "plt.figure()\n",
    "plt.scatter(np.arange(3,15),scr_lst)\n",
    "plt.title('Scores w/ Different k Values')\n",
    "plt.xlabel('# of nearest neighbors (k)')\n",
    "plt.ylabel('accuracy score')\n",
    "plt.show()"
   ]
  },
  {
   "cell_type": "code",
   "execution_count": 7,
   "metadata": {},
   "outputs": [],
   "source": [
    "#Create the classifier and fit to the training data:\n",
    "knn=KNeighborsClassifier(n_neighbors=5)\n",
    "knn.fit(X_train,y_train)\n",
    "\n",
    "#Use the trained model to predict on unseen data:\n",
    "prediction = list(knn.predict(X_test))\n",
    "\n",
    "#Populate a list of names for the predictions:\n",
    "pred_lst=[classes[int(i)-1] for i in prediction]"
   ]
  },
  {
   "cell_type": "code",
   "execution_count": 8,
   "metadata": {},
   "outputs": [
    {
     "name": "stdout",
     "output_type": "stream",
     "text": [
      "\n",
      "Results using a kNN approach:\n",
      "[('Rosa', True), ('Rosa', True), ('Canadian', True), ('Rosa', True), ('Kama', True), ('Kama', True), ('Canadian', True), ('Kama', True), ('Kama', True), ('Canadian', True), ('Kama', True), ('Rosa', True), ('Rosa', True), ('Canadian', True), ('Kama', True), ('Rosa', True), ('Canadian', True), ('Rosa', True), ('Canadian', True), ('Rosa', True), ('Kama', True), ('Canadian', True), ('Rosa', True), ('Canadian', True), ('Kama', True), ('Kama', True), ('Rosa', True), ('Kama', True), ('Kama', True), ('Rosa', True), ('Canadian', True), ('Kama', False), ('Rosa', True), ('Canadian', True), ('Kama', True), ('Canadian', True), ('Canadian', True), ('Canadian', True), ('Kama', True), ('Kama', True), ('Canadian', True), ('Rosa', True)] \n",
      "\n",
      " Score: 97.6 %\n"
     ]
    }
   ],
   "source": [
    "#Analyse the results:\n",
    "score = round(knn.score(X_test,y_test),3)*100\n",
    "comparison=prediction==y_test\n",
    "results=list(zip(pred_lst,comparison))\n",
    "\n",
    "#Print the results and analysis:\n",
    "print('\\nResults using a kNN approach:')\n",
    "print(results,'\\n\\n Score:',score,'%')\n"
   ]
  },
  {
   "cell_type": "markdown",
   "metadata": {},
   "source": [
    "# Conclusion\n",
    "The model performs very well without any hyperparameter tuning or cross validation. The presence of 3 to 5 possible outliers or misclassifications are contributing to the missed predictions. The degree of overlap of certain features contributes as well, but not to near such a degree; the majority of neighbors will be in-class due to the natural clustering. This model could possibly give better results with more exploration. "
   ]
  }
 ],
 "metadata": {
  "kernelspec": {
   "display_name": "Python 3",
   "language": "python",
   "name": "python3"
  },
  "language_info": {
   "codemirror_mode": {
    "name": "ipython",
    "version": 3
   },
   "file_extension": ".py",
   "mimetype": "text/x-python",
   "name": "python",
   "nbconvert_exporter": "python",
   "pygments_lexer": "ipython3",
   "version": "3.7.6"
  }
 },
 "nbformat": 4,
 "nbformat_minor": 4
}
