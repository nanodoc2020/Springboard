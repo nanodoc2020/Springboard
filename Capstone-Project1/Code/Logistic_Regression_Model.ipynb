{
 "cells": [
  {
   "cell_type": "markdown",
   "metadata": {},
   "source": [
    "# Stastical Models Trained on the Seeds Data Set\n",
    "\n",
    "This notebook contains statistical analyses performed on the Seeds data which was cleaned and prepared in previous project notebooks. \n",
    "\n",
    "Two methods will be explored here: logistic regression and Bayesian analysis with pymc3. For each, after model initialization, hyperparamter tuning and cross validation are explored in pursuit of greater model performance as defined by model accuracy.\n",
    "\n",
    "In addition to accuracy, which is not always the best measure of a model's performance, the precision, recall, F1 score, and support are all calculated."
   ]
  },
  {
   "cell_type": "code",
   "execution_count": 1,
   "metadata": {},
   "outputs": [],
   "source": [
    "%matplotlib inline\n",
    "import numpy as np\n",
    "import scipy as sp\n",
    "import matplotlib as mpl\n",
    "import matplotlib.cm as cm\n",
    "from matplotlib.colors import ListedColormap\n",
    "import matplotlib.pyplot as plt\n",
    "from sklearn.model_selection import train_test_split, KFold, GridSearchCV\n",
    "from sklearn.linear_model import LogisticRegression\n",
    "from sklearn.metrics import accuracy_score, classification_report\n",
    "from sklearn.naive_bayes import GaussianNB\n",
    "import pandas as pd\n",
    "pd.set_option('display.width', 500)\n",
    "pd.set_option('display.max_columns', 100)\n",
    "pd.set_option('display.notebook_repr_html', True)\n",
    "\n",
    "# Define functions\n",
    "def cv_optimize(clf, parameters, Xtrain, ytrain, n_folds=5):\n",
    "    gs = sklearn.model_selection.GridSearchCV(clf, param_grid=parameters, cv=n_folds)\n",
    "    gs.fit(Xtrain, ytrain)\n",
    "    print(\"BEST PARAMS\", gs.best_params_)\n",
    "    best = gs.best_estimator_\n",
    "    return best\n",
    "\n",
    "\n",
    "def cv_score(clf, x, y, score_func=accuracy_score):\n",
    "    result = 0\n",
    "    nfold = 5\n",
    "    for train, test in KFold(nfold).split(x): # split data into train/test groups, 5 times\n",
    "        clf.fit(x[train], y[train]) # fit\n",
    "        result += score_func(clf.predict(x[test]), y[test]) # evaluate score function on held-out data\n",
    "    return result / nfold # average\n",
    "\n"
   ]
  },
  {
   "cell_type": "code",
   "execution_count": 2,
   "metadata": {},
   "outputs": [],
   "source": [
    "# Read the seeds dataset into a dataframe\n",
    "seeds = pd.read_csv('seeds.csv')\n",
    "\n",
    "# Create a dictrionary to store class names\n",
    "class_dict = {1.0:'Kama', 2.0:'Rosa', 3.0:'Canadian'}"
   ]
  },
  {
   "cell_type": "markdown",
   "metadata": {},
   "source": [
    "#### Logistic Regression"
   ]
  },
  {
   "cell_type": "code",
   "execution_count": 3,
   "metadata": {},
   "outputs": [
    {
     "name": "stdout",
     "output_type": "stream",
     "text": [
      "\n",
      "Accuracy: 90.48%\n"
     ]
    }
   ],
   "source": [
    "# Split the data into training and test sets\n",
    "X_train, X_test, y_train, y_test = train_test_split(seeds.drop(['class'], axis=1), seeds['class'], \n",
    "                                                    test_size=.2, random_state=42)\n",
    "\n",
    "# Create a logistic regression classifier\n",
    "clf = LogisticRegression(max_iter=5000)\n",
    "\n",
    "# Fit the classifier to the training data\n",
    "clf.fit(X_train, y_train)\n",
    "\n",
    "# Use the trained model to make predictions on the test set\n",
    "predictions = clf.predict(X_test)\n",
    "\n",
    "# Calculate the accuracy score of predictions vs. truths\n",
    "initial_score = round(accuracy_score(predictions, y_test), 4)\n",
    "\n",
    "print('\\nAccuracy: ' + str(initial_score * 100) + '%')"
   ]
  },
  {
   "cell_type": "markdown",
   "metadata": {},
   "source": [
    "#### Cross Validation\n",
    "\n",
    "We can use cross validation to see how the trained model performs on new data. This is done by splitting the training data up into five folds with different test data, then taking the average performance of the five."
   ]
  },
  {
   "cell_type": "code",
   "execution_count": 5,
   "metadata": {},
   "outputs": [
    {
     "name": "stdout",
     "output_type": "stream",
     "text": [
      "\n",
      "Accuracy: 92.0%\n"
     ]
    }
   ],
   "source": [
    "X_train.reset_index(drop=True, inplace=True)\n",
    "y_train.reset_index(drop=True, inplace=True)\n",
    "# Using 5-Fold Cross Validation in the function cv_score\n",
    "\n",
    "score = round(cv_score(clf, X_train.values, y_train.values),2)\n",
    "\n",
    "print('\\nAccuracy: ' + str(score * 100) + '%')"
   ]
  },
  {
   "cell_type": "markdown",
   "metadata": {},
   "source": [
    "A modest improvement, this is still close to the original training score. At first glance it seems that the model might perform well when it encounters new data.\n",
    "\n",
    "#### Regularization\n",
    "\n",
    "Next we apply regularizaiton to the model in order to decrease overfitting. This will result in better classification of new data. To find the best value of the regularization parameter $C$, we search over a grid by creating new classifiers with test values, score them, and keep the value of $C$ corresponding to the highest score."
   ]
  },
  {
   "cell_type": "code",
   "execution_count": 6,
   "metadata": {},
   "outputs": [
    {
     "name": "stdout",
     "output_type": "stream",
     "text": [
      "0.01   0.8872\n",
      "0.1   0.8989\n",
      "0.5   0.9171\n",
      "1   0.923\n",
      "3   0.9348\n",
      "10   0.9406\n",
      "25   0.9465\n",
      "50   0.9585\n",
      "\n",
      "The best average score is: 0.9585 with C= 50\n"
     ]
    }
   ],
   "source": [
    "#the grid of parameters to search over\n",
    "Cs = [.01, .1, .5, 1, 3, 6, 10, 25, 50, ]\n",
    "score_list = []\n",
    "\n",
    "# Find the best value for the paramater C\n",
    "score=0\n",
    "bestC=0\n",
    "for Cval in Cs:\n",
    "    clf2=LogisticRegression(C=Cval, solver='lbfgs', max_iter=5000)\n",
    "    score_temp=cv_score(clf2, X_train.values, y_train.values)\n",
    "    score_list.append(round(score_temp, 4))\n",
    "    if score_temp > score:\n",
    "        bestC=Cval     \n",
    "        score=round(score_temp, 4)\n",
    "        print(Cval,' ',score)\n",
    "print(\"\\nThe best average score is:\",score,'with C=',bestC)"
   ]
  },
  {
   "cell_type": "code",
   "execution_count": 7,
   "metadata": {},
   "outputs": [
    {
     "data": {
      "image/png": "[encoded data removed]",
      "text/plain": [
       "<Figure size 1008x360 with 1 Axes>"
      ]
     },
     "metadata": {
      "needs_background": "light"
     },
     "output_type": "display_data"
    }
   ],
   "source": [
    "_=plt.figure(figsize=(14,5))\n",
    "_=plt.scatter(Cs, score_list, edgecolor='k', linewidth=1, s=40)\n",
    "_=plt.axhline(max(score_list), c='g', linestyle=':', linewidth=2)\n",
    "_=plt.axhline(.9048, c='r', linestyle=':', linewidth=2)\n",
    "_=plt.axhline(.92, c='orange', linestyle=':', linewidth=2)\n",
    "_=plt.xlabel('C')\n",
    "_=plt.ylabel('Accuracy Score')\n",
    "_=plt.title('C Optimization')"
   ]
  },
  {
   "cell_type": "code",
   "execution_count": 8,
   "metadata": {},
   "outputs": [
    {
     "name": "stdout",
     "output_type": "stream",
     "text": [
      "36.0   0.9524\n",
      "36.5   0.9524\n",
      "37.0   0.9524\n",
      "37.5   0.9585\n",
      "\n",
      "The best average score is: 0.9585 with C= 37.5\n"
     ]
    }
   ],
   "source": [
    "Cs = [i for i in np.arange(36, 40, .5)]\n",
    "score_list = []\n",
    "\n",
    "# Find the best value for the paramater C\n",
    "score=0\n",
    "bestC=0\n",
    "for Cval in Cs:\n",
    "    clf2=LogisticRegression(C=Cval, solver='lbfgs', max_iter=5000)\n",
    "    score_temp=cv_score(clf2, X_train.values, y_train.values)\n",
    "    score_list.append(round(score_temp, 4))\n",
    "    if score_temp > score:\n",
    "        bestC=Cval     \n",
    "        score=round(score_temp, 4)\n",
    "        print(Cval,' ',score)\n",
    "print(\"\\nThe best average score is:\",score,'with C=',bestC)"
   ]
  },
  {
   "cell_type": "code",
   "execution_count": 9,
   "metadata": {},
   "outputs": [
    {
     "data": {
      "image/png": "[encoded data removed]",
      "text/plain": [
       "<Figure size 1008x360 with 1 Axes>"
      ]
     },
     "metadata": {
      "needs_background": "light"
     },
     "output_type": "display_data"
    }
   ],
   "source": [
    "_=plt.figure(figsize=(14,5))\n",
    "_=plt.scatter(Cs, score_list, edgecolor='k', linewidth=1, s=40)\n",
    "_=plt.axhline(max(score_list), c='g', linestyle=':', linewidth=2)\n",
    "_=plt.xlabel('C')\n",
    "_=plt.ylabel('Accuracy Score')\n",
    "_=plt.title('C Optimization')"
   ]
  },
  {
   "cell_type": "markdown",
   "metadata": {},
   "source": [
    "5-fold cross validation along with a proper choice of $C$ shows a good improvement in the accuracy.\n",
    "\n",
    "The built in function GridSearchCV verifies this, reinforcing the choice of $C=37.5$."
   ]
  },
  {
   "cell_type": "code",
   "execution_count": 10,
   "metadata": {},
   "outputs": [
    {
     "name": "stdout",
     "output_type": "stream",
     "text": [
      "Best is: {'C': 37.500000000000014}  accuracy score 0.9467023172905525\n",
      "Test set accuracy score: 0.9523809523809523\n"
     ]
    }
   ],
   "source": [
    "# Using GridSearchCV returns similar results\n",
    "param_grid={'C':np.arange(30,40,.3)}\n",
    "clf_cv= GridSearchCV(clf,param_grid,cv=5)\n",
    "clf_cv.fit(X_train.values, y_train.values)\n",
    "\n",
    "best_params=clf_cv.best_params_\n",
    "best_score=clf_cv.best_score_\n",
    "\n",
    "print('Best is:',best_params,' accuracy score',best_score)\n",
    "\n",
    "accuracy=accuracy_score(clf_cv.predict(X_test.values),y_test.values)\n",
    "print('Test set accuracy score:',accuracy)"
   ]
  },
  {
   "cell_type": "markdown",
   "metadata": {},
   "source": [
    "#### Penalties\n",
    "\n",
    "The solver 'lbfgs' supports $L2$ penalties in the LogisticRegression classifier. Below, different solvers and types are tested to find the optimized solver and penalty value combination."
   ]
  },
  {
   "cell_type": "code",
   "execution_count": 11,
   "metadata": {
    "scrolled": true
   },
   "outputs": [],
   "source": [
    "train_score_list = []\n",
    "test_score_list = []\n",
    "lst = np.arange(0, 1, .1)\n",
    "for rat in lst:\n",
    "    clf3 = LogisticRegression(solver='saga', penalty='elasticnet', l1_ratio=rat, C=37.5, max_iter=7000)\n",
    "    clf3.fit(X_train, y_train)\n",
    "    train_score = clf3.score(X_train, y_train)\n",
    "    test_score = clf3.score(X_test, y_test)\n",
    "    train_score_list.append(train_score)\n",
    "    test_score_list.append(test_score)"
   ]
  },
  {
   "cell_type": "code",
   "execution_count": 12,
   "metadata": {},
   "outputs": [
    {
     "data": {
      "image/png": "[encoded data removed]",
      "text/plain": [
       "<Figure size 1008x360 with 1 Axes>"
      ]
     },
     "metadata": {
      "needs_background": "light"
     },
     "output_type": "display_data"
    }
   ],
   "source": [
    "_=plt.figure(figsize=(14,5))\n",
    "_=plt.plot(lst, train_score_list)\n",
    "_=plt.plot(lst, test_score_list)\n",
    "_=plt.legend(['training','test'])\n",
    "_=plt.xlabel('l1_ratio')\n",
    "_=plt.ylabel('score')"
   ]
  },
  {
   "cell_type": "markdown",
   "metadata": {},
   "source": [
    "The saga solver using an elastic net with an l1_ratio of $.3$ yields an improvement on test data."
   ]
  },
  {
   "cell_type": "markdown",
   "metadata": {},
   "source": [
    "### Create the final, optimized classifier"
   ]
  },
  {
   "cell_type": "code",
   "execution_count": 5,
   "metadata": {},
   "outputs": [
    {
     "name": "stdout",
     "output_type": "stream",
     "text": [
      "\n",
      "Training score: 98.21 %   Test score: 95.24000000000001 %\n",
      "\n",
      "Accuracy: 96.0%\n"
     ]
    }
   ],
   "source": [
    "# Create the final classifier with C=37.5 and fit it to the test set. Check the score\n",
    "clf = LogisticRegression(C=37.5, solver='lbfgs', max_iter=5000)\n",
    "\n",
    "clf.fit(X_train, y_train)\n",
    "test_score = clf.score(X_test, y_test)\n",
    "train_score = clf.score(X_train, y_train)\n",
    "\n",
    "print('\\nTraining score:',round(train_score, 4) * 100,'%   Test score:',round(test_score,4) * 100,'%')\n",
    "\n",
    "# Use cross validation with the optimized values\n",
    "X_train.reset_index(drop=True, inplace=True)\n",
    "y_train.reset_index(drop=True, inplace=True)\n",
    "# Using 5-Fold Cross Validation in the function cv_score\n",
    "\n",
    "score = round(cv_score(clf, X_train.values, y_train.values),2)\n",
    "\n",
    "print('\\nAccuracy: ' + str(score * 100) + '%')"
   ]
  },
  {
   "cell_type": "markdown",
   "metadata": {},
   "source": [
    "### Classification Report for Logistic Regression\n",
    "\n",
    "A more detailed report of performance can be found using scikit-learn's classification report function."
   ]
  },
  {
   "cell_type": "code",
   "execution_count": 14,
   "metadata": {},
   "outputs": [],
   "source": [
    "y_pred_train = clf.predict(X_train)\n",
    "\n",
    "y_pred_test = clf.predict(X_test)"
   ]
  },
  {
   "cell_type": "code",
   "execution_count": 15,
   "metadata": {},
   "outputs": [
    {
     "name": "stdout",
     "output_type": "stream",
     "text": [
      "\n",
      "Training Classification Report:\n",
      "              precision    recall  f1-score   support\n",
      "\n",
      "         1.0       0.98      0.97      0.97        59\n",
      "         2.0       0.98      1.00      0.99        56\n",
      "         3.0       0.98      0.98      0.98        53\n",
      "\n",
      "    accuracy                           0.98       168\n",
      "   macro avg       0.98      0.98      0.98       168\n",
      "weighted avg       0.98      0.98      0.98       168\n",
      "\n",
      "\n",
      "Test Classification Report:\n",
      "              precision    recall  f1-score   support\n",
      "\n",
      "         1.0       0.85      1.00      0.92        11\n",
      "         2.0       1.00      1.00      1.00        14\n",
      "         3.0       1.00      0.88      0.94        17\n",
      "\n",
      "    accuracy                           0.95        42\n",
      "   macro avg       0.95      0.96      0.95        42\n",
      "weighted avg       0.96      0.95      0.95        42\n",
      "\n"
     ]
    }
   ],
   "source": [
    "print(\"\\nTraining Classification Report:\")\n",
    "print(classification_report(y_train, y_pred_train))\n",
    "\n",
    "print(\"\\nTest Classification Report:\")\n",
    "print(classification_report(y_test, y_pred_test))"
   ]
  },
  {
   "cell_type": "code",
   "execution_count": 16,
   "metadata": {},
   "outputs": [
    {
     "data": {
      "text/html": [
       "<div>\n",
       "<style scoped>\n",
       "    .dataframe tbody tr th:only-of-type {\n",
       "        vertical-align: middle;\n",
       "    }\n",
       "\n",
       "    .dataframe tbody tr th {\n",
       "        vertical-align: top;\n",
       "    }\n",
       "\n",
       "    .dataframe thead th {\n",
       "        text-align: right;\n",
       "    }\n",
       "</style>\n",
       "<table border=\"1\" class=\"dataframe\">\n",
       "  <thead>\n",
       "    <tr style=\"text-align: right;\">\n",
       "      <th></th>\n",
       "      <th>Kama</th>\n",
       "      <th>Rosa</th>\n",
       "      <th>Canadian</th>\n",
       "      <th>truth</th>\n",
       "    </tr>\n",
       "  </thead>\n",
       "  <tbody>\n",
       "    <tr>\n",
       "      <th>0</th>\n",
       "      <td>True</td>\n",
       "      <td>False</td>\n",
       "      <td>False</td>\n",
       "      <td>Kama</td>\n",
       "    </tr>\n",
       "    <tr>\n",
       "      <th>1</th>\n",
       "      <td>False</td>\n",
       "      <td>False</td>\n",
       "      <td>True</td>\n",
       "      <td>Canadian</td>\n",
       "    </tr>\n",
       "    <tr>\n",
       "      <th>2</th>\n",
       "      <td>False</td>\n",
       "      <td>True</td>\n",
       "      <td>False</td>\n",
       "      <td>Rosa</td>\n",
       "    </tr>\n",
       "    <tr>\n",
       "      <th>3</th>\n",
       "      <td>True</td>\n",
       "      <td>False</td>\n",
       "      <td>False</td>\n",
       "      <td>Canadian</td>\n",
       "    </tr>\n",
       "    <tr>\n",
       "      <th>4</th>\n",
       "      <td>True</td>\n",
       "      <td>False</td>\n",
       "      <td>False</td>\n",
       "      <td>Kama</td>\n",
       "    </tr>\n",
       "  </tbody>\n",
       "</table>\n",
       "</div>"
      ],
      "text/plain": [
       "    Kama   Rosa  Canadian     truth\n",
       "0   True  False     False      Kama\n",
       "1  False  False      True  Canadian\n",
       "2  False   True     False      Rosa\n",
       "3   True  False     False  Canadian\n",
       "4   True  False     False      Kama"
      ]
     },
     "execution_count": 16,
     "metadata": {},
     "output_type": "execute_result"
    }
   ],
   "source": [
    "# Create a truth list with the correct names in the test set\n",
    "y_truth = []\n",
    "for i in range(len(y_test)):\n",
    "    y_tru = class_dict[y_test.values[i]]\n",
    "    y_truth.append(y_tru)\n",
    "\n",
    "# The list of predicted probabilites for each class in each row of the test set\n",
    "probabilities = clf.predict_proba(X_test)\n",
    "probabilities = pd.DataFrame(probabilities.round())\n",
    "probabilities.columns = ['Kama', 'Rosa', 'Canadian']\n",
    "probabilities = probabilities == True\n",
    "probabilities['truth'] =y_truth\n",
    "\n",
    "probabilities.head()"
   ]
  },
  {
   "cell_type": "code",
   "execution_count": 17,
   "metadata": {},
   "outputs": [
    {
     "data": {
      "text/html": [
       "<div>\n",
       "<style scoped>\n",
       "    .dataframe tbody tr th:only-of-type {\n",
       "        vertical-align: middle;\n",
       "    }\n",
       "\n",
       "    .dataframe tbody tr th {\n",
       "        vertical-align: top;\n",
       "    }\n",
       "\n",
       "    .dataframe thead th {\n",
       "        text-align: right;\n",
       "    }\n",
       "</style>\n",
       "<table border=\"1\" class=\"dataframe\">\n",
       "  <thead>\n",
       "    <tr style=\"text-align: right;\">\n",
       "      <th></th>\n",
       "      <th>0</th>\n",
       "      <th>1</th>\n",
       "      <th>2</th>\n",
       "      <th>3</th>\n",
       "      <th>4</th>\n",
       "      <th>5</th>\n",
       "      <th>6</th>\n",
       "    </tr>\n",
       "  </thead>\n",
       "  <tbody>\n",
       "    <tr>\n",
       "      <th>0</th>\n",
       "      <td>1.245791</td>\n",
       "      <td>-2.686428</td>\n",
       "      <td>0.291030</td>\n",
       "      <td>8.468200</td>\n",
       "      <td>-0.327264</td>\n",
       "      <td>-0.776273</td>\n",
       "      <td>-7.976226</td>\n",
       "    </tr>\n",
       "    <tr>\n",
       "      <th>1</th>\n",
       "      <td>1.660971</td>\n",
       "      <td>1.979029</td>\n",
       "      <td>-0.174374</td>\n",
       "      <td>-7.327236</td>\n",
       "      <td>-0.242170</td>\n",
       "      <td>0.317279</td>\n",
       "      <td>4.563127</td>\n",
       "    </tr>\n",
       "    <tr>\n",
       "      <th>2</th>\n",
       "      <td>-2.906762</td>\n",
       "      <td>0.707400</td>\n",
       "      <td>-0.116656</td>\n",
       "      <td>-1.140965</td>\n",
       "      <td>0.569434</td>\n",
       "      <td>0.458995</td>\n",
       "      <td>3.413099</td>\n",
       "    </tr>\n",
       "  </tbody>\n",
       "</table>\n",
       "</div>"
      ],
      "text/plain": [
       "          0         1         2         3         4         5         6\n",
       "0  1.245791 -2.686428  0.291030  8.468200 -0.327264 -0.776273 -7.976226\n",
       "1  1.660971  1.979029 -0.174374 -7.327236 -0.242170  0.317279  4.563127\n",
       "2 -2.906762  0.707400 -0.116656 -1.140965  0.569434  0.458995  3.413099"
      ]
     },
     "execution_count": 17,
     "metadata": {},
     "output_type": "execute_result"
    }
   ],
   "source": [
    "# Store the coefficients of the Theta matrix for future use as a dataframe\n",
    "Theta = pd.DataFrame(clf.coef_)\n",
    "Theta.head()"
   ]
  },
  {
   "cell_type": "markdown",
   "metadata": {},
   "source": [
    "The coefficients of the final matrix are stored in a dataframe called Theta, and ready for use in other applications.\n",
    "\n",
    "### Naive Bayes "
   ]
  },
  {
   "cell_type": "markdown",
   "metadata": {},
   "source": [
    "The data is continuous in each feature, prompting the choice of the GaussianNB classifier."
   ]
  },
  {
   "cell_type": "code",
   "execution_count": 6,
   "metadata": {},
   "outputs": [
    {
     "data": {
      "text/plain": [
       "30      True\n",
       "172     True\n",
       "84      True\n",
       "199    False\n",
       "60     False\n",
       "Name: class, dtype: bool"
      ]
     },
     "execution_count": 6,
     "metadata": {},
     "output_type": "execute_result"
    }
   ],
   "source": [
    "# Split the data into training and test sets\n",
    "X_train, X_test, y_train, y_test = train_test_split(seeds.drop(['class'], axis=1), seeds['class'], \n",
    "                                                    test_size=.2, random_state=42)\n",
    "\n",
    "gNB = GaussianNB()\n",
    "y_pred = gNB.fit(X_train, y_train).predict(X_test)\n",
    "results = y_pred == y_test\n",
    "results[:5]"
   ]
  },
  {
   "cell_type": "code",
   "execution_count": 7,
   "metadata": {},
   "outputs": [
    {
     "name": "stdout",
     "output_type": "stream",
     "text": [
      "The GaussianNB training score: 0.9345\n"
     ]
    }
   ],
   "source": [
    "# Print the training score\n",
    "print('The GaussianNB training score:', round(gNB.score(X_train,y_train), 4))"
   ]
  },
  {
   "cell_type": "code",
   "execution_count": 8,
   "metadata": {},
   "outputs": [
    {
     "name": "stdout",
     "output_type": "stream",
     "text": [
      "The GaussianNB test score: 0.8571\n"
     ]
    }
   ],
   "source": [
    "# Print the test score\n",
    "print('The GaussianNB test score:', round(gNB.score(X_test, y_test), 4))"
   ]
  },
  {
   "cell_type": "code",
   "execution_count": 9,
   "metadata": {},
   "outputs": [
    {
     "name": "stdout",
     "output_type": "stream",
     "text": [
      "\n",
      "Accuracy: 92.0%\n"
     ]
    }
   ],
   "source": [
    "# Perform cross validation\n",
    "score = round(cv_score(gNB, X_train.values, y_train.values), 2)\n",
    "\n",
    "print('\\nAccuracy: ' + str(score * 100) + '%')"
   ]
  },
  {
   "cell_type": "markdown",
   "metadata": {},
   "source": [
    "### Classification Report for Naive Bayes"
   ]
  },
  {
   "cell_type": "code",
   "execution_count": 10,
   "metadata": {},
   "outputs": [
    {
     "name": "stdout",
     "output_type": "stream",
     "text": [
      "\n",
      "Training Classification Report:\n",
      "              precision    recall  f1-score   support\n",
      "\n",
      "         1.0       0.91      0.86      0.89        59\n",
      "         2.0       0.95      0.95      0.95        56\n",
      "         3.0       0.91      0.96      0.94        53\n",
      "\n",
      "    accuracy                           0.92       168\n",
      "   macro avg       0.92      0.92      0.92       168\n",
      "weighted avg       0.92      0.92      0.92       168\n",
      "\n",
      "\n",
      "Test Classification Report:\n",
      "              precision    recall  f1-score   support\n",
      "\n",
      "         1.0       0.67      0.73      0.70        11\n",
      "         2.0       0.93      0.93      0.93        14\n",
      "         3.0       0.88      0.82      0.85        17\n",
      "\n",
      "    accuracy                           0.83        42\n",
      "   macro avg       0.82      0.83      0.82        42\n",
      "weighted avg       0.84      0.83      0.84        42\n",
      "\n"
     ]
    }
   ],
   "source": [
    "y_pred_train = gNB.predict(X_train)\n",
    "\n",
    "y_pred_test = gNB.predict(X_test)\n",
    "\n",
    "print(\"\\nTraining Classification Report:\")\n",
    "print(classification_report(y_train, y_pred_train))\n",
    "\n",
    "print(\"\\nTest Classification Report:\")\n",
    "print(classification_report(y_test, y_pred_test))"
   ]
  },
  {
   "cell_type": "markdown",
   "metadata": {},
   "source": [
    "The Gaussian Naive Bayes classifier performs with results that suggest possible overfitting. The discrepancy between training and test scores seen in the Logistic Regression model suggests this as well.  \n",
    "\n",
    "### Feature Selection\n",
    "\n",
    "The GaussianNB classification report is very different from that of the previous model. The very high precision and recall scores seen in the LogisticRegression report suggest that some leakage could be occuring between the features, causing such good results. To test this, feature pairs that have been identified as being highly correlated are first checked with one of the features removed from the dataframe. The score is then evaluated to compare against the score with the other feature removed. "
   ]
  },
  {
   "cell_type": "code",
   "execution_count": 11,
   "metadata": {},
   "outputs": [],
   "source": [
    "# Remove Asymmetry coefficient from dataframe\n",
    "X2 = seeds.drop(['asymmetry_coefficient','class'], axis=1)\n",
    "\n",
    "X2_train, X2_test, y2_train, y2_test = train_test_split(X2, seeds['class'], \n",
    "                                                    test_size=.2, random_state=42)\n",
    "\n",
    "# Remove asymmetry coefficient and compactness\n",
    "X3 = seeds.drop(['asymmetry_coefficient','compactness','class'], axis=1)\n",
    "\n",
    "X3_train, X3_test, y3_train, y3_test = train_test_split(X3, seeds['class'], \n",
    "                                                    test_size=.2, random_state=42)\n",
    "\n",
    "# Remove compactness\n",
    "X4 = seeds.drop(['compactness','class'], axis=1)\n",
    "\n",
    "X4_train, X4_test, y4_train, y4_test = train_test_split(X4, seeds['class'], \n",
    "                                                    test_size=.2, random_state=42)"
   ]
  },
  {
   "cell_type": "code",
   "execution_count": 44,
   "metadata": {},
   "outputs": [
    {
     "name": "stdout",
     "output_type": "stream",
     "text": [
      "\n",
      "With \"asymmetry_coefficient\" removed-\n",
      "\n",
      "Training score: 97.02 %   Test score: 85.71 %\n"
     ]
    }
   ],
   "source": [
    "# Check score with asymmetry_coefficient removed\n",
    "clf2 = LogisticRegression(C=37.5, solver='lbfgs', max_iter=5000)\n",
    "\n",
    "clf2.fit(X2_train, y2_train)\n",
    "\n",
    "test_score = clf2.score(X2_test, y2_test)\n",
    "train_score = clf2.score(X2_train, y2_train)\n",
    "\n",
    "print('\\nWith \"asymmetry_coefficient\" removed-')\n",
    "print('\\nTraining score:',round(train_score, 4) * 100,'%   Test score:',round(test_score,4) * 100,'%')"
   ]
  },
  {
   "cell_type": "code",
   "execution_count": 37,
   "metadata": {},
   "outputs": [
    {
     "name": "stdout",
     "output_type": "stream",
     "text": [
      "\n",
      "Training Classification Report with 'asymmetry_coefficient' removed:\n",
      "\n",
      "              precision    recall  f1-score   support\n",
      "\n",
      "         1.0       0.97      0.95      0.96        59\n",
      "         2.0       0.98      1.00      0.99        56\n",
      "         3.0       0.96      0.96      0.96        53\n",
      "\n",
      "    accuracy                           0.97       168\n",
      "   macro avg       0.97      0.97      0.97       168\n",
      "weighted avg       0.97      0.97      0.97       168\n",
      "\n",
      "\n",
      "Test Classification Report with 'asymmetry_coefficient' removed:\n",
      "\n",
      "              precision    recall  f1-score   support\n",
      "\n",
      "         1.0       0.67      0.91      0.77        11\n",
      "         2.0       1.00      0.93      0.96        14\n",
      "         3.0       0.93      0.76      0.84        17\n",
      "\n",
      "    accuracy                           0.86        42\n",
      "   macro avg       0.87      0.87      0.86        42\n",
      "weighted avg       0.88      0.86      0.86        42\n",
      "\n"
     ]
    }
   ],
   "source": [
    "y_pred_train = clf2.predict(X2_train)\n",
    "\n",
    "y_pred_test = clf2.predict(X2_test)\n",
    "\n",
    "print(\"\\nTraining Classification Report with 'asymmetry_coefficient' removed:\\n\")\n",
    "print(classification_report(y_train, y_pred_train))\n",
    "\n",
    "print(\"\\nTest Classification Report with 'asymmetry_coefficient' removed:\\n\")\n",
    "print(classification_report(y_test, y_pred_test))"
   ]
  },
  {
   "cell_type": "code",
   "execution_count": 45,
   "metadata": {},
   "outputs": [
    {
     "name": "stdout",
     "output_type": "stream",
     "text": [
      "\n",
      "With \"asymmetry_coefficient\" and \"compactness\" removed-\n",
      "\n",
      "Training score: 97.02 %   Test score: 85.71 %\n"
     ]
    }
   ],
   "source": [
    "# Check score with asymmetry_coefficient & compactness removed\n",
    "clf3 = LogisticRegression(C=37.5, solver='lbfgs', max_iter=5000)\n",
    "clf3.fit(X3_train, y3_train)\n",
    "\n",
    "test_score = clf3.score(X3_test, y3_test)\n",
    "train_score = clf3.score(X3_train, y3_train)\n",
    "\n",
    "print('\\nWith \"asymmetry_coefficient\" and \"compactness\" removed-')\n",
    "print('\\nTraining score:',round(train_score, 4) * 100,'%   Test score:',round(test_score,4) * 100,'%')"
   ]
  },
  {
   "cell_type": "code",
   "execution_count": 39,
   "metadata": {},
   "outputs": [
    {
     "name": "stdout",
     "output_type": "stream",
     "text": [
      "\n",
      "Training Classification Report with 'asymmetry_coefficient' and 'compactness' removed:\n",
      "\n",
      "              precision    recall  f1-score   support\n",
      "\n",
      "         1.0       0.97      0.95      0.96        59\n",
      "         2.0       0.98      1.00      0.99        56\n",
      "         3.0       0.96      0.96      0.96        53\n",
      "\n",
      "    accuracy                           0.97       168\n",
      "   macro avg       0.97      0.97      0.97       168\n",
      "weighted avg       0.97      0.97      0.97       168\n",
      "\n",
      "\n",
      "Test Classification Report with 'asymmetry_coefficient' and 'compactness' removed:\n",
      "\n",
      "              precision    recall  f1-score   support\n",
      "\n",
      "         1.0       0.67      0.91      0.77        11\n",
      "         2.0       1.00      0.93      0.96        14\n",
      "         3.0       0.93      0.76      0.84        17\n",
      "\n",
      "    accuracy                           0.86        42\n",
      "   macro avg       0.87      0.87      0.86        42\n",
      "weighted avg       0.88      0.86      0.86        42\n",
      "\n"
     ]
    }
   ],
   "source": [
    "y3_pred_train = clf3.predict(X3_train)\n",
    "\n",
    "y3_pred_test = clf3.predict(X3_test)\n",
    "\n",
    "print(\"\\nTraining Classification Report with 'asymmetry_coefficient' and 'compactness' removed:\\n\")\n",
    "print(classification_report(y3_train, y3_pred_train))\n",
    "\n",
    "print(\"\\nTest Classification Report with 'asymmetry_coefficient' and 'compactness' removed:\\n\")\n",
    "print(classification_report(y3_test, y3_pred_test))"
   ]
  },
  {
   "cell_type": "code",
   "execution_count": 13,
   "metadata": {},
   "outputs": [
    {
     "name": "stdout",
     "output_type": "stream",
     "text": [
      "\n",
      "With \"compactness\" removed-\n",
      "\n",
      "Training score: 98.21 %   Test score: 95.24000000000001 %\n",
      "\n",
      "CV accuracy: 96.0%\n"
     ]
    }
   ],
   "source": [
    "# Check score with compactness removed\n",
    "clf4 = LogisticRegression(C=37.5, solver='lbfgs', max_iter=5000)\n",
    "clf4.fit(X4_train, y4_train)\n",
    "\n",
    "test_score = clf4.score(X4_test, y4_test)\n",
    "train_score = clf4.score(X4_train, y4_train)\n",
    "\n",
    "print('\\nWith \"compactness\" removed-')\n",
    "print('\\nTraining score:',round(train_score, 4) * 100,'%   Test score:',round(test_score,4) * 100,'%')\n",
    "\n",
    "score = round(cv_score(clf, X_train.values, y_train.values),2)\n",
    "\n",
    "print('\\nCV accuracy: ' + str(score * 100) + '%')"
   ]
  },
  {
   "cell_type": "code",
   "execution_count": 40,
   "metadata": {},
   "outputs": [
    {
     "name": "stdout",
     "output_type": "stream",
     "text": [
      "\n",
      "Training Classification Report with 'compactness' removed:\n",
      "\n",
      "              precision    recall  f1-score   support\n",
      "\n",
      "         1.0       0.98      0.97      0.97        59\n",
      "         2.0       0.98      1.00      0.99        56\n",
      "         3.0       0.98      0.98      0.98        53\n",
      "\n",
      "    accuracy                           0.98       168\n",
      "   macro avg       0.98      0.98      0.98       168\n",
      "weighted avg       0.98      0.98      0.98       168\n",
      "\n",
      "\n",
      "Test Classification Report with 'compactness' removed:\n",
      "\n",
      "              precision    recall  f1-score   support\n",
      "\n",
      "         1.0       0.85      1.00      0.92        11\n",
      "         2.0       1.00      1.00      1.00        14\n",
      "         3.0       1.00      0.88      0.94        17\n",
      "\n",
      "    accuracy                           0.95        42\n",
      "   macro avg       0.95      0.96      0.95        42\n",
      "weighted avg       0.96      0.95      0.95        42\n",
      "\n"
     ]
    }
   ],
   "source": [
    "y4_pred_train = clf4.predict(X4_train)\n",
    "\n",
    "y4_pred_test = clf4.predict(X4_test)\n",
    "\n",
    "print(\"\\nTraining Classification Report with 'compactness' removed:\\n\")\n",
    "print(classification_report(y4_train, y4_pred_train))\n",
    "\n",
    "print(\"\\nTest Classification Report with 'compactness' removed:\\n\")\n",
    "print(classification_report(y4_test, y4_pred_test))"
   ]
  },
  {
   "cell_type": "markdown",
   "metadata": {},
   "source": [
    "## Next Steps\n",
    "\n",
    "The logistic regression model performs well, with accuracy scores reaching greater than $95\\%$. Removing the 'compactness' column from the dataframe seems to keep performance while having a more realistic classificaiton report. \n",
    "\n",
    "Using the 'lbfgs' solver gave the best results. Optimizing the hyperparameter $C$ for tuning regularization reduces overfitting. The test scores are improved, closing the gap between training and test error. A naive Bayes approach did not perform as well as logistic regression. \n",
    "\n",
    "Next, unsupervised clustering algorithms will be evaluated, such as K-means. Finally, we will build a neural network model and compare its performance to the previous models."
   ]
  }
 ],
 "metadata": {
  "kernelspec": {
   "display_name": "Python 3",
   "language": "python",
   "name": "python3"
  },
  "language_info": {
   "codemirror_mode": {
    "name": "ipython",
    "version": 3
   },
   "file_extension": ".py",
   "mimetype": "text/x-python",
   "name": "python",
   "nbconvert_exporter": "python",
   "pygments_lexer": "ipython3",
   "version": "3.7.6"
  }
 },
 "nbformat": 4,
 "nbformat_minor": 4
}
