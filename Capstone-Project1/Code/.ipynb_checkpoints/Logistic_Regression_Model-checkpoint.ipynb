{
 "cells": [
  {
   "cell_type": "markdown",
   "metadata": {},
   "source": [
    "# Logistic Regression on the Seeds Data Set"
   ]
  },
  {
   "cell_type": "code",
   "execution_count": 1,
   "metadata": {},
   "outputs": [],
   "source": [
    "%matplotlib inline\n",
    "import numpy as np\n",
    "import scipy as sp\n",
    "import matplotlib as mpl\n",
    "import matplotlib.cm as cm\n",
    "from matplotlib.colors import ListedColormap\n",
    "import matplotlib.pyplot as plt\n",
    "from sklearn.model_selection import train_test_split, KFold, GridSearchCV\n",
    "from sklearn.linear_model import LogisticRegression\n",
    "from sklearn.metrics import accuracy_score, classification_report\n",
    "import pandas as pd\n",
    "pd.set_option('display.width', 500)\n",
    "pd.set_option('display.max_columns', 100)\n",
    "pd.set_option('display.notebook_repr_html', True)\n",
    "\n",
    "# Define functions\n",
    "def cv_optimize(clf, parameters, Xtrain, ytrain, n_folds=5):\n",
    "    gs = sklearn.model_selection.GridSearchCV(clf, param_grid=parameters, cv=n_folds)\n",
    "    gs.fit(Xtrain, ytrain)\n",
    "    print(\"BEST PARAMS\", gs.best_params_)\n",
    "    best = gs.best_estimator_\n",
    "    return best\n",
    "\n",
    "\n",
    "def cv_score(clf, x, y, score_func=accuracy_score):\n",
    "    result = 0\n",
    "    nfold = 5\n",
    "    for train, test in KFold(nfold).split(x): # split data into train/test groups, 5 times\n",
    "        clf.fit(x[train], y[train]) # fit\n",
    "        result += score_func(clf.predict(x[test]), y[test]) # evaluate score function on held-out data\n",
    "    return result / nfold # average\n",
    "\n",
    "\n",
    "def do_classify(clf, parameters, indf, featurenames, targetname, target1val, standardize=False, train_size=0.8):\n",
    "    subdf=indf[featurenames]\n",
    "    if standardize:\n",
    "        subdfstd=(subdf - subdf.mean())/subdf.std()\n",
    "    else:\n",
    "        subdfstd=subdf\n",
    "    X=subdfstd.values\n",
    "    y=(indf[targetname].values==target1val)*1\n",
    "    Xtrain, Xtest, ytrain, ytest = train_test_split(X, y, train_size=train_size)\n",
    "    clf = cv_optimize(clf, parameters, Xtrain, ytrain)\n",
    "    clf=clf.fit(Xtrain, ytrain)\n",
    "    training_accuracy = clf.score(Xtrain, ytrain)\n",
    "    test_accuracy = clf.score(Xtest, ytest)\n",
    "    print(\"Accuracy on training data: {:0.4f}\".format(training_accuracy))\n",
    "    print(\"Accuracy on test data:     {:0.4f}\".format(test_accuracy))\n",
    "    return clf, Xtrain, ytrain, Xtest, ytest\n",
    "\n",
    "\n"
   ]
  },
  {
   "cell_type": "code",
   "execution_count": 2,
   "metadata": {},
   "outputs": [
    {
     "data": {
      "text/html": [
       "<div>\n",
       "<style scoped>\n",
       "    .dataframe tbody tr th:only-of-type {\n",
       "        vertical-align: middle;\n",
       "    }\n",
       "\n",
       "    .dataframe tbody tr th {\n",
       "        vertical-align: top;\n",
       "    }\n",
       "\n",
       "    .dataframe thead th {\n",
       "        text-align: right;\n",
       "    }\n",
       "</style>\n",
       "<table border=\"1\" class=\"dataframe\">\n",
       "  <thead>\n",
       "    <tr style=\"text-align: right;\">\n",
       "      <th></th>\n",
       "      <th>area</th>\n",
       "      <th>perimeter</th>\n",
       "      <th>compactness</th>\n",
       "      <th>length</th>\n",
       "      <th>width</th>\n",
       "      <th>asymmetry_coefficient</th>\n",
       "      <th>groove_length</th>\n",
       "      <th>class</th>\n",
       "    </tr>\n",
       "  </thead>\n",
       "  <tbody>\n",
       "    <tr>\n",
       "      <th>0</th>\n",
       "      <td>15.26</td>\n",
       "      <td>14.84</td>\n",
       "      <td>0.8710</td>\n",
       "      <td>5.763</td>\n",
       "      <td>3.312</td>\n",
       "      <td>2.221</td>\n",
       "      <td>5.220</td>\n",
       "      <td>1.0</td>\n",
       "    </tr>\n",
       "    <tr>\n",
       "      <th>1</th>\n",
       "      <td>14.88</td>\n",
       "      <td>14.57</td>\n",
       "      <td>0.8811</td>\n",
       "      <td>5.554</td>\n",
       "      <td>3.333</td>\n",
       "      <td>1.018</td>\n",
       "      <td>4.956</td>\n",
       "      <td>1.0</td>\n",
       "    </tr>\n",
       "    <tr>\n",
       "      <th>2</th>\n",
       "      <td>14.29</td>\n",
       "      <td>14.09</td>\n",
       "      <td>0.9050</td>\n",
       "      <td>5.291</td>\n",
       "      <td>3.337</td>\n",
       "      <td>2.699</td>\n",
       "      <td>4.825</td>\n",
       "      <td>1.0</td>\n",
       "    </tr>\n",
       "    <tr>\n",
       "      <th>3</th>\n",
       "      <td>13.84</td>\n",
       "      <td>13.94</td>\n",
       "      <td>0.8955</td>\n",
       "      <td>5.324</td>\n",
       "      <td>3.379</td>\n",
       "      <td>2.259</td>\n",
       "      <td>4.805</td>\n",
       "      <td>1.0</td>\n",
       "    </tr>\n",
       "    <tr>\n",
       "      <th>4</th>\n",
       "      <td>16.14</td>\n",
       "      <td>14.99</td>\n",
       "      <td>0.9034</td>\n",
       "      <td>5.658</td>\n",
       "      <td>3.562</td>\n",
       "      <td>1.355</td>\n",
       "      <td>5.175</td>\n",
       "      <td>1.0</td>\n",
       "    </tr>\n",
       "  </tbody>\n",
       "</table>\n",
       "</div>"
      ],
      "text/plain": [
       "    area  perimeter  compactness  length  width  asymmetry_coefficient  groove_length  class\n",
       "0  15.26      14.84       0.8710   5.763  3.312                  2.221          5.220    1.0\n",
       "1  14.88      14.57       0.8811   5.554  3.333                  1.018          4.956    1.0\n",
       "2  14.29      14.09       0.9050   5.291  3.337                  2.699          4.825    1.0\n",
       "3  13.84      13.94       0.8955   5.324  3.379                  2.259          4.805    1.0\n",
       "4  16.14      14.99       0.9034   5.658  3.562                  1.355          5.175    1.0"
      ]
     },
     "execution_count": 2,
     "metadata": {},
     "output_type": "execute_result"
    }
   ],
   "source": [
    "# Read the seeds dataset into a dataframe\n",
    "seeds = pd.read_csv('seeds.csv')\n",
    "\n",
    "# Create a dictrionary to store class names\n",
    "class_dict = {1.0:'Kama', 2.0:'Rosa', 3.0:'Canadian'}\n",
    "\n",
    "seeds.head()"
   ]
  },
  {
   "cell_type": "code",
   "execution_count": 4,
   "metadata": {},
   "outputs": [
    {
     "name": "stdout",
     "output_type": "stream",
     "text": [
      "\n",
      "Accuracy: 90.48%\n"
     ]
    }
   ],
   "source": [
    "# Split the data into training and test sets\n",
    "X_train, X_test, y_train, y_test = train_test_split(seeds.drop(['class'], axis=1), seeds['class'], \n",
    "                                                    test_size=.2, random_state=42)\n",
    "\n",
    "# Create a logistic regression classifier\n",
    "clf = LogisticRegression(max_iter=5000)\n",
    "\n",
    "# Fit the classifier to the training data\n",
    "clf.fit(X_train, y_train)\n",
    "\n",
    "# Use the trained model to make predictions on the test set\n",
    "predictions = clf.predict(X_test)\n",
    "\n",
    "# Calculate the accuracy score of predictions vs. truths\n",
    "initial_score = round(accuracy_score(predictions, y_test), 4)\n",
    "\n",
    "print('\\nAccuracy: ' + str(initial_score * 100) + '%')"
   ]
  },
  {
   "cell_type": "markdown",
   "metadata": {},
   "source": [
    "This can be increased using cross validation."
   ]
  },
  {
   "cell_type": "code",
   "execution_count": 5,
   "metadata": {},
   "outputs": [
    {
     "name": "stdout",
     "output_type": "stream",
     "text": [
      "\n",
      "Accuracy: 92.0%\n"
     ]
    }
   ],
   "source": [
    "X_train.reset_index(drop=True, inplace=True)\n",
    "y_train.reset_index(drop=True, inplace=True)\n",
    "# Using 5-Fold Cross Validation in the function cv_score\n",
    "\n",
    "score = round(cv_score(clf, X_train.values, y_train.values),2)\n",
    "\n",
    "print('\\nAccuracy: ' + str(score * 100) + '%')"
   ]
  },
  {
   "cell_type": "markdown",
   "metadata": {},
   "source": [
    "A modest improvement."
   ]
  },
  {
   "cell_type": "code",
   "execution_count": 6,
   "metadata": {},
   "outputs": [
    {
     "name": "stdout",
     "output_type": "stream",
     "text": [
      "0.01   0.8872\n",
      "0.1   0.8989\n",
      "0.5   0.9171\n",
      "1   0.923\n",
      "3   0.9348\n",
      "10   0.9406\n",
      "25   0.9465\n",
      "50   0.9585\n",
      "\n",
      "The best average score is: 0.9585 with C= 50\n"
     ]
    }
   ],
   "source": [
    "#the grid of parameters to search over\n",
    "Cs = [.01, .1, .5, 1, 3, 6, 10, 25, 50, ]\n",
    "score_list = []\n",
    "\n",
    "# Find the best value for the paramater C\n",
    "score=0\n",
    "bestC=0\n",
    "for Cval in Cs:\n",
    "    clf2=LogisticRegression(C=Cval, solver='lbfgs', max_iter=5000)\n",
    "    score_temp=cv_score(clf2, X_train.values, y_train.values)\n",
    "    score_list.append(round(score_temp, 4))\n",
    "    if score_temp > score:\n",
    "        bestC=Cval     \n",
    "        score=round(score_temp, 4)\n",
    "        print(Cval,' ',score)\n",
    "print(\"\\nThe best average score is:\",score,'with C=',bestC)"
   ]
  },
  {
   "cell_type": "code",
   "execution_count": 7,
   "metadata": {},
   "outputs": [
    {
     "data": {
      "image/png": "[encoded data removed]",
      "text/plain": [
       "<Figure size 1008x360 with 1 Axes>"
      ]
     },
     "metadata": {
      "needs_background": "light"
     },
     "output_type": "display_data"
    }
   ],
   "source": [
    "_=plt.figure(figsize=(14,5))\n",
    "_=plt.scatter(Cs, score_list, edgecolor='k', linewidth=1, s=40)\n",
    "_=plt.axhline(max(score_list), c='g', linestyle=':', linewidth=2)\n",
    "_=plt.axhline(.9048, c='r', linestyle=':', linewidth=2)\n",
    "_=plt.axhline(.92, c='orange', linestyle=':', linewidth=2)\n",
    "_=plt.xlabel('C')\n",
    "_=plt.ylabel('Accuracy Score')\n",
    "_=plt.title('C Optimization')"
   ]
  },
  {
   "cell_type": "code",
   "execution_count": 8,
   "metadata": {},
   "outputs": [
    {
     "name": "stdout",
     "output_type": "stream",
     "text": [
      "36.0   0.9524\n",
      "36.5   0.9524\n",
      "37.0   0.9524\n",
      "37.5   0.9585\n",
      "\n",
      "The best average score is: 0.9585 with C= 37.5\n"
     ]
    }
   ],
   "source": [
    "Cs = [i for i in np.arange(36, 40, .5)]\n",
    "score_list = []\n",
    "\n",
    "# Find the best value for the paramater C\n",
    "score=0\n",
    "bestC=0\n",
    "for Cval in Cs:\n",
    "    clf2=LogisticRegression(C=Cval, solver='lbfgs', max_iter=5000)\n",
    "    score_temp=cv_score(clf2, X_train.values, y_train.values)\n",
    "    score_list.append(round(score_temp, 4))\n",
    "    if score_temp > score:\n",
    "        bestC=Cval     \n",
    "        score=round(score_temp, 4)\n",
    "        print(Cval,' ',score)\n",
    "print(\"\\nThe best average score is:\",score,'with C=',bestC)"
   ]
  },
  {
   "cell_type": "code",
   "execution_count": 9,
   "metadata": {},
   "outputs": [
    {
     "data": {
      "image/png": "[encoded data removed]",
      "text/plain": [
       "<Figure size 1008x360 with 1 Axes>"
      ]
     },
     "metadata": {
      "needs_background": "light"
     },
     "output_type": "display_data"
    }
   ],
   "source": [
    "_=plt.figure(figsize=(14,5))\n",
    "_=plt.scatter(Cs, score_list, edgecolor='k', linewidth=1, s=40)\n",
    "_=plt.axhline(max(score_list), c='g', linestyle=':', linewidth=2)\n",
    "_=plt.xlabel('C')\n",
    "_=plt.ylabel('Accuracy Score')\n",
    "_=plt.title('C Optimization')"
   ]
  },
  {
   "cell_type": "markdown",
   "metadata": {},
   "source": [
    "5-fold cross validation along with a proper choice of $C$ shows a good improvement in the accuracy.\n",
    "\n",
    "The built in function GridSearchCV verifies this, reinforcing the choice of $C=37.5$."
   ]
  },
  {
   "cell_type": "code",
   "execution_count": 10,
   "metadata": {},
   "outputs": [
    {
     "name": "stdout",
     "output_type": "stream",
     "text": [
      "Best is: {'C': 37.500000000000014}  accuracy score 0.9467023172905525\n",
      "Test set accuracy score: 0.9523809523809523\n"
     ]
    }
   ],
   "source": [
    "# Using GridSearchCV returns similar results\n",
    "param_grid={'C':np.arange(30,40,.3)}\n",
    "clf_cv= GridSearchCV(clf,param_grid,cv=5)\n",
    "clf_cv.fit(X_train.values, y_train.values)\n",
    "\n",
    "best_params=clf_cv.best_params_\n",
    "best_score=clf_cv.best_score_\n",
    "\n",
    "print('Best is:',best_params,' accuracy score',best_score)\n",
    "accuracy=accuracy_score(clf_cv.predict(X_test.values),y_test.values)\n",
    "print('Test set accuracy score:',accuracy)"
   ]
  },
  {
   "cell_type": "markdown",
   "metadata": {},
   "source": [
    "### Create the final, optimized classifier"
   ]
  },
  {
   "cell_type": "code",
   "execution_count": 12,
   "metadata": {},
   "outputs": [
    {
     "name": "stdout",
     "output_type": "stream",
     "text": [
      "\n",
      "Training score: 98.21 %   Test score: 95.24000000000001 %\n"
     ]
    }
   ],
   "source": [
    "# Create the final classifier with C=37.5 and fit it to the test set. Check the score\n",
    "clf = LogisticRegression(C=bestC, solver='lbfgs', max_iter=5000)\n",
    "\n",
    "clf.fit(X_train, y_train)\n",
    "test_score = clf.score(X_test, y_test)\n",
    "train_score = clf.score(X_train, y_train)\n",
    "\n",
    "improvement = test_score - initial_score\n",
    "\n",
    "print('\\nTraining score:',round(train_score, 4) * 100,'%   Test score:',round(test_score,4) * 100,'%')"
   ]
  },
  {
   "cell_type": "markdown",
   "metadata": {},
   "source": [
    "### Classification Report\n",
    "\n",
    "A more detailed report of performance can be found using scikit-learn's classification report function."
   ]
  },
  {
   "cell_type": "code",
   "execution_count": 13,
   "metadata": {},
   "outputs": [],
   "source": [
    "y_pred_train = clf.predict(X_train)\n",
    "\n",
    "y_pred_test = clf.predict(X_test)"
   ]
  },
  {
   "cell_type": "code",
   "execution_count": 15,
   "metadata": {},
   "outputs": [
    {
     "name": "stdout",
     "output_type": "stream",
     "text": [
      "\n",
      "Training Classification Report:\n",
      "              precision    recall  f1-score   support\n",
      "\n",
      "         1.0       0.98      0.97      0.97        59\n",
      "         2.0       0.98      1.00      0.99        56\n",
      "         3.0       0.98      0.98      0.98        53\n",
      "\n",
      "    accuracy                           0.98       168\n",
      "   macro avg       0.98      0.98      0.98       168\n",
      "weighted avg       0.98      0.98      0.98       168\n",
      "\n",
      "\n",
      "Test Classification Report:\n",
      "              precision    recall  f1-score   support\n",
      "\n",
      "         1.0       0.85      1.00      0.92        11\n",
      "         2.0       1.00      1.00      1.00        14\n",
      "         3.0       1.00      0.88      0.94        17\n",
      "\n",
      "    accuracy                           0.95        42\n",
      "   macro avg       0.95      0.96      0.95        42\n",
      "weighted avg       0.96      0.95      0.95        42\n",
      "\n"
     ]
    }
   ],
   "source": [
    "print(\"\\nTraining Classification Report:\")\n",
    "print(classification_report(y_train, y_pred_train))\n",
    "\n",
    "print(\"\\nTest Classification Report:\")\n",
    "print(classification_report(y_test, y_pred_test))"
   ]
  },
  {
   "cell_type": "code",
   "execution_count": null,
   "metadata": {},
   "outputs": [],
   "source": [
    "# Create a truth list with the correct names in the test set\n",
    "y_truth = []\n",
    "for i in range(len(y_test)):\n",
    "    y_tru = class_dict[y_test.values[i]]\n",
    "    y_truth.append(y_tru)\n",
    "\n",
    "# The list of predicted probabilites for each class in each row of the test set\n",
    "probabilities = clf.predict_proba(X_test)\n",
    "probabilities = pd.DataFrame(probabilities.round())\n",
    "probabilities.columns = ['Kama', 'Rosa', 'Canadian']\n",
    "probabilities = probabilities == True\n",
    "probabilities['truth'] =y_truth\n",
    "\n",
    "probabilities.head()"
   ]
  },
  {
   "cell_type": "code",
   "execution_count": null,
   "metadata": {},
   "outputs": [],
   "source": [
    "# Store the coefficients of the Theta matrix for future use as a dataframe\n",
    "Theta = pd.DataFrame(clf.coef_)\n",
    "Theta.head()"
   ]
  },
  {
   "cell_type": "markdown",
   "metadata": {},
   "source": [
    "The coefficients of the final matrix are stored in a dataframe called Theta, and ready for use in other applications."
   ]
  },
  {
   "cell_type": "markdown",
   "metadata": {},
   "source": [
    "## Next Steps\n",
    "\n",
    "The logistic regression model performs well, with accuracy scores reaching greater than $95\\%$. \n",
    "\n",
    "Optimizing the cost of incorrect predictions helped to improve the overall score by over $4%$.\n",
    "\n",
    "Finally, we will build a neural network model and compare its performance."
   ]
  }
 ],
 "metadata": {
  "kernelspec": {
   "display_name": "Python 3",
   "language": "python",
   "name": "python3"
  },
  "language_info": {
   "codemirror_mode": {
    "name": "ipython",
    "version": 3
   },
   "file_extension": ".py",
   "mimetype": "text/x-python",
   "name": "python",
   "nbconvert_exporter": "python",
   "pygments_lexer": "ipython3",
   "version": "3.7.6"
  }
 },
 "nbformat": 4,
 "nbformat_minor": 4
}
