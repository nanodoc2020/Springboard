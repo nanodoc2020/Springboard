{
 "cells": [
  {
   "cell_type": "code",
   "execution_count": 245,
   "metadata": {},
   "outputs": [],
   "source": [
    "%matplotlib inline\n",
    "import numpy as np\n",
    "import scipy as sp\n",
    "import matplotlib as mpl\n",
    "import matplotlib.cm as cm\n",
    "from matplotlib.colors import ListedColormap\n",
    "import matplotlib.pyplot as plt\n",
    "from sklearn.model_selection import train_test_split, KFold, GridSearchCV\n",
    "from sklearn.linear_model import LogisticRegression\n",
    "from sklearn.metrics import accuracy_score\n",
    "import pandas as pd\n",
    "pd.set_option('display.width', 500)\n",
    "pd.set_option('display.max_columns', 100)\n",
    "pd.set_option('display.notebook_repr_html', True)\n",
    "import seaborn as sns\n",
    "\n",
    "cmap_light = ListedColormap(['#FFAAAA', '#AAFFAA', '#AAAAFF'])\n",
    "cmap_bold = ListedColormap(['#FF0000', '#00FF00', '#0000FF'])\n",
    "cm = plt.cm.RdBu\n",
    "cm_bright = ListedColormap(['#FF0000', '#0000FF'])\n",
    "\n",
    "# Define functions\n",
    "def cv_optimize(clf, parameters, Xtrain, ytrain, n_folds=5):\n",
    "    gs = sklearn.model_selection.GridSearchCV(clf, param_grid=parameters, cv=n_folds)\n",
    "    gs.fit(Xtrain, ytrain)\n",
    "    print(\"BEST PARAMS\", gs.best_params_)\n",
    "    best = gs.best_estimator_\n",
    "    return best\n",
    "\n",
    "\n",
    "def cv_score(clf, x, y, score_func=accuracy_score):\n",
    "    result = 0\n",
    "    nfold = 5\n",
    "    for train, test in KFold(nfold).split(x): # split data into train/test groups, 5 times\n",
    "        clf.fit(x[train], y[train]) # fit\n",
    "        result += score_func(clf.predict(x[test]), y[test]) # evaluate score function on held-out data\n",
    "    return result / nfold # average\n",
    "\n",
    "\n",
    "def do_classify(clf, parameters, indf, featurenames, targetname, target1val, standardize=False, train_size=0.8):\n",
    "    subdf=indf[featurenames]\n",
    "    if standardize:\n",
    "        subdfstd=(subdf - subdf.mean())/subdf.std()\n",
    "    else:\n",
    "        subdfstd=subdf\n",
    "    X=subdfstd.values\n",
    "    y=(indf[targetname].values==target1val)*1\n",
    "    Xtrain, Xtest, ytrain, ytest = train_test_split(X, y, train_size=train_size)\n",
    "    clf = cv_optimize(clf, parameters, Xtrain, ytrain)\n",
    "    clf=clf.fit(Xtrain, ytrain)\n",
    "    training_accuracy = clf.score(Xtrain, ytrain)\n",
    "    test_accuracy = clf.score(Xtest, ytest)\n",
    "    print(\"Accuracy on training data: {:0.4f}\".format(training_accuracy))\n",
    "    print(\"Accuracy on test data:     {:0.4f}\".format(test_accuracy))\n",
    "    return clf, Xtrain, ytrain, Xtest, ytest\n",
    "\n",
    "\n",
    "def points_plot(ax, Xtr, Xte, ytr, yte, clf, mesh=True, colorscale=cmap_light, \n",
    "                cdiscrete=cmap_bold, alpha=0.1, psize=10, zfunc=False, predicted=False):\n",
    "    h = .02\n",
    "    X=np.concatenate((Xtr, Xte))\n",
    "    x_min, x_max = X[:, 0].min() - .5, X[:, 0].max() + .5\n",
    "    y_min, y_max = X[:, 1].min() - .5, X[:, 1].max() + .5\n",
    "    xx, yy = np.meshgrid(np.linspace(x_min, x_max, 100),\n",
    "                         np.linspace(y_min, y_max, 100))\n",
    "\n",
    "    #plt.figure(figsize=(10,6))\n",
    "    if zfunc:\n",
    "        p0 = clf.predict_proba(np.c_[xx.ravel(), yy.ravel()])[:, 0]\n",
    "        p1 = clf.predict_proba(np.c_[xx.ravel(), yy.ravel()])[:, 1]\n",
    "        Z=zfunc(p0, p1)\n",
    "    else:\n",
    "        Z = clf.predict(np.c_[xx.ravel(), yy.ravel()])\n",
    "    ZZ = Z.reshape(xx.shape)\n",
    "    if mesh:\n",
    "        plt.pcolormesh(xx, yy, ZZ, cmap=cmap_light, alpha=alpha, axes=ax)\n",
    "    if predicted:\n",
    "        showtr = clf.predict(Xtr)\n",
    "        showte = clf.predict(Xte)\n",
    "    else:\n",
    "        showtr = ytr\n",
    "        showte = yte\n",
    "    ax.scatter(Xtr[:, 0], Xtr[:, 1], c=showtr-1, cmap=cmap_bold, \n",
    "               s=psize, alpha=alpha,edgecolor=\"k\")\n",
    "    # and testing points\n",
    "    ax.scatter(Xte[:, 0], Xte[:, 1], c=showte-1, cmap=cmap_bold, \n",
    "               alpha=alpha, marker=\"s\", s=psize+10)\n",
    "    ax.set_xlim(xx.min(), xx.max())\n",
    "    ax.set_ylim(yy.min(), yy.max())\n",
    "    return ax,xx,yy\n",
    "\n",
    "\n",
    "def points_plot_prob(ax, Xtr, Xte, ytr, yte, clf, colorscale=cmap_light, \n",
    "                     cdiscrete=cmap_bold, ccolor=cm, psize=10, alpha=0.1):\n",
    "    ax,xx,yy = points_plot(ax, Xtr, Xte, ytr, yte, clf, mesh=False, \n",
    "                           colorscale=colorscale, cdiscrete=cdiscrete, \n",
    "                           psize=psize, alpha=alpha, predicted=True) \n",
    "    Z = clf.predict_proba(np.c_[xx.ravel(), yy.ravel()])[:, 1]\n",
    "    Z = Z.reshape(xx.shape)\n",
    "    plt.contourf(xx, yy, Z, cmap=ccolor, alpha=.2, axes=ax)\n",
    "    cs2 = plt.contour(xx, yy, Z, cmap=ccolor, alpha=.6, axes=ax)\n",
    "    plt.clabel(cs2, fmt = '%2.1f', colors = 'k', fontsize=14, axes=ax)\n",
    "    return ax"
   ]
  },
  {
   "cell_type": "code",
   "execution_count": 259,
   "metadata": {},
   "outputs": [
    {
     "data": {
      "text/html": [
       "<div>\n",
       "<style scoped>\n",
       "    .dataframe tbody tr th:only-of-type {\n",
       "        vertical-align: middle;\n",
       "    }\n",
       "\n",
       "    .dataframe tbody tr th {\n",
       "        vertical-align: top;\n",
       "    }\n",
       "\n",
       "    .dataframe thead th {\n",
       "        text-align: right;\n",
       "    }\n",
       "</style>\n",
       "<table border=\"1\" class=\"dataframe\">\n",
       "  <thead>\n",
       "    <tr style=\"text-align: right;\">\n",
       "      <th></th>\n",
       "      <th>area</th>\n",
       "      <th>perimeter</th>\n",
       "      <th>compactness</th>\n",
       "      <th>length</th>\n",
       "      <th>width</th>\n",
       "      <th>asymmetry_coefficient</th>\n",
       "      <th>groove_length</th>\n",
       "      <th>class</th>\n",
       "    </tr>\n",
       "  </thead>\n",
       "  <tbody>\n",
       "    <tr>\n",
       "      <th>0</th>\n",
       "      <td>15.26</td>\n",
       "      <td>14.84</td>\n",
       "      <td>0.8710</td>\n",
       "      <td>5.763</td>\n",
       "      <td>3.312</td>\n",
       "      <td>2.221</td>\n",
       "      <td>5.220</td>\n",
       "      <td>1.0</td>\n",
       "    </tr>\n",
       "    <tr>\n",
       "      <th>1</th>\n",
       "      <td>14.88</td>\n",
       "      <td>14.57</td>\n",
       "      <td>0.8811</td>\n",
       "      <td>5.554</td>\n",
       "      <td>3.333</td>\n",
       "      <td>1.018</td>\n",
       "      <td>4.956</td>\n",
       "      <td>1.0</td>\n",
       "    </tr>\n",
       "    <tr>\n",
       "      <th>2</th>\n",
       "      <td>14.29</td>\n",
       "      <td>14.09</td>\n",
       "      <td>0.9050</td>\n",
       "      <td>5.291</td>\n",
       "      <td>3.337</td>\n",
       "      <td>2.699</td>\n",
       "      <td>4.825</td>\n",
       "      <td>1.0</td>\n",
       "    </tr>\n",
       "    <tr>\n",
       "      <th>3</th>\n",
       "      <td>13.84</td>\n",
       "      <td>13.94</td>\n",
       "      <td>0.8955</td>\n",
       "      <td>5.324</td>\n",
       "      <td>3.379</td>\n",
       "      <td>2.259</td>\n",
       "      <td>4.805</td>\n",
       "      <td>1.0</td>\n",
       "    </tr>\n",
       "    <tr>\n",
       "      <th>4</th>\n",
       "      <td>16.14</td>\n",
       "      <td>14.99</td>\n",
       "      <td>0.9034</td>\n",
       "      <td>5.658</td>\n",
       "      <td>3.562</td>\n",
       "      <td>1.355</td>\n",
       "      <td>5.175</td>\n",
       "      <td>1.0</td>\n",
       "    </tr>\n",
       "  </tbody>\n",
       "</table>\n",
       "</div>"
      ],
      "text/plain": [
       "    area  perimeter  compactness  length  width  asymmetry_coefficient  groove_length  class\n",
       "0  15.26      14.84       0.8710   5.763  3.312                  2.221          5.220    1.0\n",
       "1  14.88      14.57       0.8811   5.554  3.333                  1.018          4.956    1.0\n",
       "2  14.29      14.09       0.9050   5.291  3.337                  2.699          4.825    1.0\n",
       "3  13.84      13.94       0.8955   5.324  3.379                  2.259          4.805    1.0\n",
       "4  16.14      14.99       0.9034   5.658  3.562                  1.355          5.175    1.0"
      ]
     },
     "execution_count": 259,
     "metadata": {},
     "output_type": "execute_result"
    }
   ],
   "source": [
    "# Import the seeds dataset into a dataframe\n",
    "seeds = pd.read_csv('seeds.csv')\n",
    "\n",
    "# Create a dictrionary to store class names\n",
    "class_dict = {1.0:'Kama', 2.0:'Rosa', 3.0:'Canadian'}\n",
    "\n",
    "seeds.head()"
   ]
  },
  {
   "cell_type": "code",
   "execution_count": 247,
   "metadata": {},
   "outputs": [
    {
     "name": "stdout",
     "output_type": "stream",
     "text": [
      "\n",
      "Accuracy: 90.48%\n"
     ]
    }
   ],
   "source": [
    "# Split the data into training and test sets\n",
    "X_train, X_test, y_train, y_test = train_test_split(seeds.drop(['class'], axis=1), seeds['class'], \n",
    "                                                    test_size=.2, random_state=42)\n",
    "\n",
    "# Create a logistic regression classifier\n",
    "clf = LogisticRegression(max_iter=5000)\n",
    "\n",
    "# Fit the classifier to the training data\n",
    "clf.fit(X_train, y_train)\n",
    "\n",
    "# Use the trained model to make predictions on the test set\n",
    "predictions = clf.predict(X_test)\n",
    "\n",
    "# Calculate the accuracy score of predictions vs. truths\n",
    "initial_score = round(accuracy_score(predictions, y_test), 4)\n",
    "\n",
    "print('\\nAccuracy: ' + str(initial_score * 100) + '%')"
   ]
  },
  {
   "cell_type": "markdown",
   "metadata": {},
   "source": [
    "This can be increased using cross validation."
   ]
  },
  {
   "cell_type": "code",
   "execution_count": 248,
   "metadata": {},
   "outputs": [
    {
     "name": "stdout",
     "output_type": "stream",
     "text": [
      "\n",
      "Accuracy: 92.0%\n"
     ]
    }
   ],
   "source": [
    "X_train.reset_index(drop=True, inplace=True)\n",
    "y_train.reset_index(drop=True, inplace=True)\n",
    "# Using 5-Fold Cross Validation in the function cv_score\n",
    "\n",
    "score = round(cv_score(clf, X_train.values, y_train.values),2)\n",
    "\n",
    "print('\\nAccuracy: ' + str(score * 100) + '%')"
   ]
  },
  {
   "cell_type": "markdown",
   "metadata": {},
   "source": [
    "A modest improvement."
   ]
  },
  {
   "cell_type": "code",
   "execution_count": 249,
   "metadata": {},
   "outputs": [
    {
     "name": "stdout",
     "output_type": "stream",
     "text": [
      "0.01   0.8872\n",
      "0.1   0.8989\n",
      "0.5   0.9171\n",
      "1   0.923\n",
      "3   0.9348\n",
      "10   0.9406\n",
      "25   0.9465\n",
      "50   0.9585\n",
      "\n",
      "The best average score is: 0.9585 with C= 50\n"
     ]
    }
   ],
   "source": [
    "#the grid of parameters to search over\n",
    "Cs = [.01, .1, .5, 1, 3, 6, 10, 25, 50, ]\n",
    "score_list = []\n",
    "\n",
    "# Find the best value for the paramater C\n",
    "score=0\n",
    "bestC=0\n",
    "for Cval in Cs:\n",
    "    clf2=LogisticRegression(C=Cval, solver='lbfgs', max_iter=5000)\n",
    "    score_temp=cv_score(clf2, X_train.values, y_train.values)\n",
    "    score_list.append(round(score_temp, 4))\n",
    "    if score_temp > score:\n",
    "        bestC=Cval     \n",
    "        score=round(score_temp, 4)\n",
    "        print(Cval,' ',score)\n",
    "print(\"\\nThe best average score is:\",score,'with C=',bestC)"
   ]
  },
  {
   "cell_type": "code",
   "execution_count": 250,
   "metadata": {},
   "outputs": [
    {
     "data": {
      "image/png": "[encoded data removed]",
      "text/plain": [
       "<Figure size 1008x360 with 1 Axes>"
      ]
     },
     "metadata": {
      "needs_background": "light"
     },
     "output_type": "display_data"
    }
   ],
   "source": [
    "_=plt.figure(figsize=(14,5))\n",
    "_=plt.scatter(Cs, score_list, edgecolor='k', linewidth=1, s=40)\n",
    "_=plt.axhline(max(score_list), c='g', linestyle=':', linewidth=2)\n",
    "_=plt.axhline(.9048, c='r', linestyle=':', linewidth=2)\n",
    "_=plt.axhline(.92, c='orange', linestyle=':', linewidth=2)\n",
    "_=plt.xlabel('C')\n",
    "_=plt.ylabel('Accuracy Score')\n",
    "_=plt.title('C Optimization')"
   ]
  },
  {
   "cell_type": "code",
   "execution_count": 251,
   "metadata": {},
   "outputs": [
    {
     "name": "stdout",
     "output_type": "stream",
     "text": [
      "36.0   0.9524\n",
      "36.5   0.9524\n",
      "37.0   0.9524\n",
      "37.5   0.9585\n",
      "\n",
      "The best average score is: 0.9585 with C= 37.5\n"
     ]
    }
   ],
   "source": [
    "Cs = [i for i in np.arange(36, 40, .5)]\n",
    "score_list = []\n",
    "\n",
    "# Find the best value for the paramater C\n",
    "score=0\n",
    "bestC=0\n",
    "for Cval in Cs:\n",
    "    clf2=LogisticRegression(C=Cval, solver='lbfgs', max_iter=5000)\n",
    "    score_temp=cv_score(clf2, X_train.values, y_train.values)\n",
    "    score_list.append(round(score_temp, 4))\n",
    "    if score_temp > score:\n",
    "        bestC=Cval     \n",
    "        score=round(score_temp, 4)\n",
    "        print(Cval,' ',score)\n",
    "print(\"\\nThe best average score is:\",score,'with C=',bestC)"
   ]
  },
  {
   "cell_type": "code",
   "execution_count": 252,
   "metadata": {},
   "outputs": [
    {
     "data": {
      "image/png": "[encoded data removed]",
      "text/plain": [
       "<Figure size 1008x360 with 1 Axes>"
      ]
     },
     "metadata": {
      "needs_background": "light"
     },
     "output_type": "display_data"
    }
   ],
   "source": [
    "_=plt.figure(figsize=(14,5))\n",
    "_=plt.scatter(Cs, score_list, edgecolor='k', linewidth=1, s=40)\n",
    "_=plt.axhline(max(score_list), c='g', linestyle=':', linewidth=2)\n",
    "_=plt.xlabel('C')\n",
    "_=plt.ylabel('Accuracy Score')\n",
    "_=plt.title('C Optimization')"
   ]
  },
  {
   "cell_type": "markdown",
   "metadata": {},
   "source": [
    "5-fold cross validation along with a proper choice of $C$ shows a good improvement in the accuracy."
   ]
  },
  {
   "cell_type": "code",
   "execution_count": 253,
   "metadata": {},
   "outputs": [
    {
     "name": "stdout",
     "output_type": "stream",
     "text": [
      "Best is: {'C': 37.500000000000014}  accuracy score 0.9467023172905525\n",
      "Test set accuracy score: 0.9523809523809523\n"
     ]
    }
   ],
   "source": [
    "# Using GridSearchCV returns similar results\n",
    "param_grid={'C':np.arange(30,40,.3)}\n",
    "clf_cv= GridSearchCV(clf,param_grid,cv=5)\n",
    "clf_cv.fit(X_train.values, y_train.values)\n",
    "\n",
    "best_params=clf_cv.best_params_\n",
    "best_score=clf_cv.best_score_\n",
    "\n",
    "print('Best is:',best_params,' accuracy score',best_score)\n",
    "accuracy=accuracy_score(clf_cv.predict(X_test.values),y_test.values)\n",
    "print('Test set accuracy score:',accuracy)"
   ]
  },
  {
   "cell_type": "code",
   "execution_count": 254,
   "metadata": {},
   "outputs": [
    {
     "name": "stdout",
     "output_type": "stream",
     "text": [
      "\n",
      "For Class  1 :\n",
      "BEST PARAMS {'C': 80}\n",
      "Accuracy on training data: 0.9776\n",
      "Accuracy on test data:     0.9412\n",
      "\n",
      "For Class  2 :\n",
      "BEST PARAMS {'C': 25}\n",
      "Accuracy on training data: 0.9851\n",
      "Accuracy on test data:     0.9412\n",
      "\n",
      "For Class  3 :\n",
      "BEST PARAMS {'C': 10}\n",
      "Accuracy on training data: 0.9776\n",
      "Accuracy on test data:     0.9706\n"
     ]
    }
   ],
   "source": [
    "# Using a one vs. all method\n",
    "X_train['class'] = y_train\n",
    "\n",
    "for i in [1,2,3]:\n",
    "    print('\\nFor Class ', i,':')\n",
    "    clf, Xtrain, ytrain, Xtest, ytest  = do_classify(LogisticRegression(), \n",
    "                                                           {\"C\": [10, 25, 37.5, 50, 80, 100]}, X_train, \n",
    "                                                 X_train.drop('class',axis=1).columns, \n",
    "                                                 'class', i, standardize=True)"
   ]
  },
  {
   "cell_type": "code",
   "execution_count": 256,
   "metadata": {},
   "outputs": [
    {
     "name": "stdout",
     "output_type": "stream",
     "text": [
      "\n",
      "Training score: 98.21 %   Test score: 95.24000000000001 %\n"
     ]
    }
   ],
   "source": [
    "# Create the final classifier with C=37.5 and fit it to the test set. Check the score\n",
    "clf = LogisticRegression(C=bestC, solver='lbfgs', max_iter=5000)\n",
    "\n",
    "X_train = X_train.drop('class',axis=1)\n",
    "\n",
    "clf.fit(X_train, y_train)\n",
    "test_score = clf.score(X_test, y_test)\n",
    "train_score = clf.score(X_train, y_train)\n",
    "\n",
    "improvement = test_score - initial_score\n",
    "\n",
    "print('\\nTraining score:',round(train_score, 4) * 100,'%   Test score:',round(test_score,4) * 100,'%')"
   ]
  },
  {
   "cell_type": "code",
   "execution_count": 257,
   "metadata": {},
   "outputs": [
    {
     "data": {
      "text/html": [
       "<div>\n",
       "<style scoped>\n",
       "    .dataframe tbody tr th:only-of-type {\n",
       "        vertical-align: middle;\n",
       "    }\n",
       "\n",
       "    .dataframe tbody tr th {\n",
       "        vertical-align: top;\n",
       "    }\n",
       "\n",
       "    .dataframe thead th {\n",
       "        text-align: right;\n",
       "    }\n",
       "</style>\n",
       "<table border=\"1\" class=\"dataframe\">\n",
       "  <thead>\n",
       "    <tr style=\"text-align: right;\">\n",
       "      <th></th>\n",
       "      <th>Kama</th>\n",
       "      <th>Rosa</th>\n",
       "      <th>Canadian</th>\n",
       "      <th>truth</th>\n",
       "    </tr>\n",
       "  </thead>\n",
       "  <tbody>\n",
       "    <tr>\n",
       "      <th>0</th>\n",
       "      <td>True</td>\n",
       "      <td>False</td>\n",
       "      <td>False</td>\n",
       "      <td>Kama</td>\n",
       "    </tr>\n",
       "    <tr>\n",
       "      <th>1</th>\n",
       "      <td>False</td>\n",
       "      <td>False</td>\n",
       "      <td>True</td>\n",
       "      <td>Canadian</td>\n",
       "    </tr>\n",
       "    <tr>\n",
       "      <th>2</th>\n",
       "      <td>False</td>\n",
       "      <td>True</td>\n",
       "      <td>False</td>\n",
       "      <td>Rosa</td>\n",
       "    </tr>\n",
       "    <tr>\n",
       "      <th>3</th>\n",
       "      <td>True</td>\n",
       "      <td>False</td>\n",
       "      <td>False</td>\n",
       "      <td>Canadian</td>\n",
       "    </tr>\n",
       "    <tr>\n",
       "      <th>4</th>\n",
       "      <td>True</td>\n",
       "      <td>False</td>\n",
       "      <td>False</td>\n",
       "      <td>Kama</td>\n",
       "    </tr>\n",
       "  </tbody>\n",
       "</table>\n",
       "</div>"
      ],
      "text/plain": [
       "    Kama   Rosa  Canadian     truth\n",
       "0   True  False     False      Kama\n",
       "1  False  False      True  Canadian\n",
       "2  False   True     False      Rosa\n",
       "3   True  False     False  Canadian\n",
       "4   True  False     False      Kama"
      ]
     },
     "execution_count": 257,
     "metadata": {},
     "output_type": "execute_result"
    }
   ],
   "source": [
    "# Create a truth list with the correct names in the test set\n",
    "y_truth = []\n",
    "for i in range(len(y_test)):\n",
    "    y_tru = class_dict[y_test.values[i]]\n",
    "    y_truth.append(y_tru)\n",
    "\n",
    "# The list of predicted probabilites for each class in each row of the test set\n",
    "probabilities = clf.predict_proba(X_test)\n",
    "probabilities = pd.DataFrame(probabilities.round())\n",
    "probabilities.columns = ['Kama', 'Rosa', 'Canadian']\n",
    "probabilities = probabilities == True\n",
    "probabilities['truth'] =y_truth\n",
    "\n",
    "probabilities.head()"
   ]
  },
  {
   "cell_type": "code",
   "execution_count": 258,
   "metadata": {},
   "outputs": [
    {
     "data": {
      "text/html": [
       "<div>\n",
       "<style scoped>\n",
       "    .dataframe tbody tr th:only-of-type {\n",
       "        vertical-align: middle;\n",
       "    }\n",
       "\n",
       "    .dataframe tbody tr th {\n",
       "        vertical-align: top;\n",
       "    }\n",
       "\n",
       "    .dataframe thead th {\n",
       "        text-align: right;\n",
       "    }\n",
       "</style>\n",
       "<table border=\"1\" class=\"dataframe\">\n",
       "  <thead>\n",
       "    <tr style=\"text-align: right;\">\n",
       "      <th></th>\n",
       "      <th>0</th>\n",
       "      <th>1</th>\n",
       "      <th>2</th>\n",
       "      <th>3</th>\n",
       "      <th>4</th>\n",
       "      <th>5</th>\n",
       "      <th>6</th>\n",
       "    </tr>\n",
       "  </thead>\n",
       "  <tbody>\n",
       "    <tr>\n",
       "      <th>0</th>\n",
       "      <td>1.245791</td>\n",
       "      <td>-2.686428</td>\n",
       "      <td>0.291030</td>\n",
       "      <td>8.468200</td>\n",
       "      <td>-0.327264</td>\n",
       "      <td>-0.776273</td>\n",
       "      <td>-7.976226</td>\n",
       "    </tr>\n",
       "    <tr>\n",
       "      <th>1</th>\n",
       "      <td>1.660971</td>\n",
       "      <td>1.979029</td>\n",
       "      <td>-0.174374</td>\n",
       "      <td>-7.327236</td>\n",
       "      <td>-0.242170</td>\n",
       "      <td>0.317279</td>\n",
       "      <td>4.563127</td>\n",
       "    </tr>\n",
       "    <tr>\n",
       "      <th>2</th>\n",
       "      <td>-2.906762</td>\n",
       "      <td>0.707400</td>\n",
       "      <td>-0.116656</td>\n",
       "      <td>-1.140965</td>\n",
       "      <td>0.569434</td>\n",
       "      <td>0.458995</td>\n",
       "      <td>3.413099</td>\n",
       "    </tr>\n",
       "  </tbody>\n",
       "</table>\n",
       "</div>"
      ],
      "text/plain": [
       "          0         1         2         3         4         5         6\n",
       "0  1.245791 -2.686428  0.291030  8.468200 -0.327264 -0.776273 -7.976226\n",
       "1  1.660971  1.979029 -0.174374 -7.327236 -0.242170  0.317279  4.563127\n",
       "2 -2.906762  0.707400 -0.116656 -1.140965  0.569434  0.458995  3.413099"
      ]
     },
     "execution_count": 258,
     "metadata": {},
     "output_type": "execute_result"
    }
   ],
   "source": [
    "# Store the coefficients of the Theta matrix for future use as a dataframe\n",
    "Theta = pd.DataFrame(clf.coef_)\n",
    "Theta.head()"
   ]
  },
  {
   "cell_type": "markdown",
   "metadata": {},
   "source": [
    "The coefficients of the final matrix are stored in a dataframe called Theta, and ready for use in other applications."
   ]
  },
  {
   "cell_type": "markdown",
   "metadata": {},
   "source": [
    "## Next Steps\n",
    "\n",
    "The logistic regression model performs well, with accuracy scores reaching greater than $95\\%$. \n",
    "\n",
    "Optimizing the cost of incorrect predictions helped to improve the overall score by \n",
    "\n",
    "Next we will look at any other hyperparameters that can be tuned to improve the performance. \n",
    "\n",
    "Finally, we will build a neural network model and compare its performance."
   ]
  }
 ],
 "metadata": {
  "kernelspec": {
   "display_name": "Python 3",
   "language": "python",
   "name": "python3"
  },
  "language_info": {
   "codemirror_mode": {
    "name": "ipython",
    "version": 3
   },
   "file_extension": ".py",
   "mimetype": "text/x-python",
   "name": "python",
   "nbconvert_exporter": "python",
   "pygments_lexer": "ipython3",
   "version": "3.7.6"
  }
 },
 "nbformat": 4,
 "nbformat_minor": 4
}
