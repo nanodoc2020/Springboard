{
 "cells": [
  {
   "cell_type": "markdown",
   "metadata": {},
   "source": [
    "# Statistical Analysis of the seeds dataset\n",
    "\n",
    "This notebook contains the code and results of the anaysis done on the seeds dataset. Bootstrapping is a wonderful approach to test if the sample statistics are representative of the true popoulation statistics. A comparison of Pearson correlation coefficients determines which features are highly correlated, and in essence can then be left out of the final model to reduce redundancy and increase performance.  "
   ]
  },
  {
   "cell_type": "code",
   "execution_count": 109,
   "metadata": {},
   "outputs": [],
   "source": [
    "import numpy as np\n",
    "import pandas as pd\n",
    "import seaborn as sns\n",
    "import matplotlib.pyplot as plt\n",
    "import pymc3 as pm\n",
    "import scipy.stats as st\n",
    "import statsmodels as sm\n",
    "%matplotlib inline\n"
   ]
  },
  {
   "cell_type": "code",
   "execution_count": 2,
   "metadata": {},
   "outputs": [],
   "source": [
    "#Load the data into a data frame and separate into X and y.\n",
    "seeds = pd.read_csv('seeds.csv')"
   ]
  },
  {
   "cell_type": "code",
   "execution_count": 13,
   "metadata": {},
   "outputs": [
    {
     "data": {
      "text/html": [
       "<div>\n",
       "<style scoped>\n",
       "    .dataframe tbody tr th:only-of-type {\n",
       "        vertical-align: middle;\n",
       "    }\n",
       "\n",
       "    .dataframe tbody tr th {\n",
       "        vertical-align: top;\n",
       "    }\n",
       "\n",
       "    .dataframe thead th {\n",
       "        text-align: right;\n",
       "    }\n",
       "</style>\n",
       "<table border=\"1\" class=\"dataframe\">\n",
       "  <thead>\n",
       "    <tr style=\"text-align: right;\">\n",
       "      <th></th>\n",
       "      <th>area</th>\n",
       "      <th>perimeter</th>\n",
       "      <th>compactness</th>\n",
       "      <th>length</th>\n",
       "      <th>width</th>\n",
       "      <th>asymmetry_coefficient</th>\n",
       "      <th>groove_length</th>\n",
       "      <th>class</th>\n",
       "    </tr>\n",
       "  </thead>\n",
       "  <tbody>\n",
       "    <tr>\n",
       "      <th>135</th>\n",
       "      <td>15.38</td>\n",
       "      <td>14.66</td>\n",
       "      <td>0.8990</td>\n",
       "      <td>5.477</td>\n",
       "      <td>3.465</td>\n",
       "      <td>3.600</td>\n",
       "      <td>5.439</td>\n",
       "      <td>2.0</td>\n",
       "    </tr>\n",
       "    <tr>\n",
       "      <th>136</th>\n",
       "      <td>17.36</td>\n",
       "      <td>15.76</td>\n",
       "      <td>0.8785</td>\n",
       "      <td>6.145</td>\n",
       "      <td>3.574</td>\n",
       "      <td>3.526</td>\n",
       "      <td>5.971</td>\n",
       "      <td>2.0</td>\n",
       "    </tr>\n",
       "    <tr>\n",
       "      <th>137</th>\n",
       "      <td>15.57</td>\n",
       "      <td>15.15</td>\n",
       "      <td>0.8527</td>\n",
       "      <td>5.920</td>\n",
       "      <td>3.231</td>\n",
       "      <td>2.640</td>\n",
       "      <td>5.879</td>\n",
       "      <td>2.0</td>\n",
       "    </tr>\n",
       "    <tr>\n",
       "      <th>138</th>\n",
       "      <td>15.60</td>\n",
       "      <td>15.11</td>\n",
       "      <td>0.8580</td>\n",
       "      <td>5.832</td>\n",
       "      <td>3.286</td>\n",
       "      <td>2.725</td>\n",
       "      <td>5.752</td>\n",
       "      <td>2.0</td>\n",
       "    </tr>\n",
       "    <tr>\n",
       "      <th>139</th>\n",
       "      <td>16.23</td>\n",
       "      <td>15.18</td>\n",
       "      <td>0.8850</td>\n",
       "      <td>5.872</td>\n",
       "      <td>3.472</td>\n",
       "      <td>3.769</td>\n",
       "      <td>5.922</td>\n",
       "      <td>2.0</td>\n",
       "    </tr>\n",
       "  </tbody>\n",
       "</table>\n",
       "</div>"
      ],
      "text/plain": [
       "      area  perimeter  compactness  length  width  asymmetry_coefficient  \\\n",
       "135  15.38      14.66       0.8990   5.477  3.465                  3.600   \n",
       "136  17.36      15.76       0.8785   6.145  3.574                  3.526   \n",
       "137  15.57      15.15       0.8527   5.920  3.231                  2.640   \n",
       "138  15.60      15.11       0.8580   5.832  3.286                  2.725   \n",
       "139  16.23      15.18       0.8850   5.872  3.472                  3.769   \n",
       "\n",
       "     groove_length  class  \n",
       "135          5.439    2.0  \n",
       "136          5.971    2.0  \n",
       "137          5.879    2.0  \n",
       "138          5.752    2.0  \n",
       "139          5.922    2.0  "
      ]
     },
     "execution_count": 13,
     "metadata": {},
     "output_type": "execute_result"
    }
   ],
   "source": [
    "#Separate the classes for sampling:\n",
    "seeds1 = seeds[seeds[\"class\"]==1]\n",
    "seeds2 = seeds[seeds[\"class\"]==2]\n",
    "seeds3 = seeds[seeds[\"class\"]==3]\n",
    "seeds2.tail()"
   ]
  },
  {
   "cell_type": "markdown",
   "metadata": {},
   "source": [
    "## Bootstrapping\n",
    "\n",
    "In this section we randomly sample the data for each class, creating 10,000 random samples of the training data, all of equal size. We compare the results with histograms and find the confidence interval and p-value for each. This value will let us know how representative of the world's population is the samle's data."
   ]
  },
  {
   "cell_type": "code",
   "execution_count": 14,
   "metadata": {},
   "outputs": [],
   "source": [
    "def mean_sampler(df, draws=1, itrs=1):\n",
    "    samples = pd.DataFrame({'means':[df.sample(n=draws ,replace=True, random_state=np.random.randint(0,1000), \\\n",
    "                                               axis=0).mean() for i in range(itrs) ] } )\n",
    "    return(samples)"
   ]
  },
  {
   "cell_type": "code",
   "execution_count": 16,
   "metadata": {},
   "outputs": [],
   "source": [
    "mean_samples1 = mean_sampler(seeds1.area, draws=len(seeds1), itrs=10000)"
   ]
  },
  {
   "cell_type": "code",
   "execution_count": 21,
   "metadata": {},
   "outputs": [
    {
     "data": {
      "text/html": [
       "<div>\n",
       "<style scoped>\n",
       "    .dataframe tbody tr th:only-of-type {\n",
       "        vertical-align: middle;\n",
       "    }\n",
       "\n",
       "    .dataframe tbody tr th {\n",
       "        vertical-align: top;\n",
       "    }\n",
       "\n",
       "    .dataframe thead th {\n",
       "        text-align: right;\n",
       "    }\n",
       "</style>\n",
       "<table border=\"1\" class=\"dataframe\">\n",
       "  <thead>\n",
       "    <tr style=\"text-align: right;\">\n",
       "      <th></th>\n",
       "      <th>means</th>\n",
       "    </tr>\n",
       "  </thead>\n",
       "  <tbody>\n",
       "    <tr>\n",
       "      <th>9995</th>\n",
       "      <td>14.514286</td>\n",
       "    </tr>\n",
       "    <tr>\n",
       "      <th>9996</th>\n",
       "      <td>14.327571</td>\n",
       "    </tr>\n",
       "    <tr>\n",
       "      <th>9997</th>\n",
       "      <td>14.331143</td>\n",
       "    </tr>\n",
       "    <tr>\n",
       "      <th>9998</th>\n",
       "      <td>14.452714</td>\n",
       "    </tr>\n",
       "    <tr>\n",
       "      <th>9999</th>\n",
       "      <td>14.238429</td>\n",
       "    </tr>\n",
       "  </tbody>\n",
       "</table>\n",
       "</div>"
      ],
      "text/plain": [
       "          means\n",
       "9995  14.514286\n",
       "9996  14.327571\n",
       "9997  14.331143\n",
       "9998  14.452714\n",
       "9999  14.238429"
      ]
     },
     "execution_count": 21,
     "metadata": {},
     "output_type": "execute_result"
    }
   ],
   "source": [
    "#Visualize the distribution compared to the original:\n",
    "mean_samples1.tail()"
   ]
  },
  {
   "cell_type": "code",
   "execution_count": null,
   "metadata": {},
   "outputs": [],
   "source": []
  },
  {
   "cell_type": "code",
   "execution_count": 34,
   "metadata": {},
   "outputs": [
    {
     "name": "stdout",
     "output_type": "stream",
     "text": [
      "Bootstrap mean(cm): 14.333227757142904   Original mean(cm): 14.33442857142857\n"
     ]
    }
   ],
   "source": [
    "#Now look at the statistics of the variables:\n",
    "area_mean1 = seeds1.area.mean()\n",
    "areamean_bs1 = float(samples1.mean().values)\n",
    "print(\"Bootstrap mean(cm):\",areamean_bs1 ,\"  Original mean(cm):\",area_mean1)"
   ]
  },
  {
   "cell_type": "code",
   "execution_count": 45,
   "metadata": {},
   "outputs": [
    {
     "data": {
      "image/png": "[encoded data removed]",
      "text/plain": [
       "<Figure size 1008x288 with 1 Axes>"
      ]
     },
     "metadata": {
      "needs_background": "light"
     },
     "output_type": "display_data"
    }
   ],
   "source": [
    "_=plt.figure(figsize=(14,4))\n",
    "_=plt.hist(samples1.means, bins=30, edgecolor='k', alpha=.6, density=True)\n",
    "_=plt.axvline(area_mean1, linestyle='-.', color='k')\n",
    "_=plt.axvline(areamean_bs1, linestyle=':', color='g')\n",
    "_=plt.legend(['original mean','boostrap mean'])"
   ]
  },
  {
   "cell_type": "code",
   "execution_count": 46,
   "metadata": {},
   "outputs": [
    {
     "name": "stdout",
     "output_type": "stream",
     "text": [
      "95% confidence interval between 14.05  and  14.61 cm.\n"
     ]
    }
   ],
   "source": [
    "lower = round(samples1.means.quantile(.025),2)\n",
    "upper = round(samples1.means.quantile(.975),2)\n",
    "print('95% confidence interval between', lower, ' and ', upper, 'cm.')"
   ]
  },
  {
   "cell_type": "code",
   "execution_count": null,
   "metadata": {},
   "outputs": [],
   "source": []
  },
  {
   "cell_type": "code",
   "execution_count": 35,
   "metadata": {},
   "outputs": [
    {
     "data": {
      "text/html": [
       "<div>\n",
       "<style scoped>\n",
       "    .dataframe tbody tr th:only-of-type {\n",
       "        vertical-align: middle;\n",
       "    }\n",
       "\n",
       "    .dataframe tbody tr th {\n",
       "        vertical-align: top;\n",
       "    }\n",
       "\n",
       "    .dataframe thead th {\n",
       "        text-align: right;\n",
       "    }\n",
       "</style>\n",
       "<table border=\"1\" class=\"dataframe\">\n",
       "  <thead>\n",
       "    <tr style=\"text-align: right;\">\n",
       "      <th></th>\n",
       "      <th>area</th>\n",
       "      <th>perimeter</th>\n",
       "      <th>compactness</th>\n",
       "      <th>length</th>\n",
       "      <th>width</th>\n",
       "      <th>asymmetry_coefficient</th>\n",
       "      <th>groove_length</th>\n",
       "      <th>class</th>\n",
       "    </tr>\n",
       "  </thead>\n",
       "  <tbody>\n",
       "    <tr>\n",
       "      <th>0</th>\n",
       "      <td>15.26</td>\n",
       "      <td>14.84</td>\n",
       "      <td>0.8710</td>\n",
       "      <td>5.763</td>\n",
       "      <td>3.312</td>\n",
       "      <td>2.221</td>\n",
       "      <td>5.220</td>\n",
       "      <td>1.0</td>\n",
       "    </tr>\n",
       "    <tr>\n",
       "      <th>1</th>\n",
       "      <td>14.88</td>\n",
       "      <td>14.57</td>\n",
       "      <td>0.8811</td>\n",
       "      <td>5.554</td>\n",
       "      <td>3.333</td>\n",
       "      <td>1.018</td>\n",
       "      <td>4.956</td>\n",
       "      <td>1.0</td>\n",
       "    </tr>\n",
       "    <tr>\n",
       "      <th>2</th>\n",
       "      <td>14.29</td>\n",
       "      <td>14.09</td>\n",
       "      <td>0.9050</td>\n",
       "      <td>5.291</td>\n",
       "      <td>3.337</td>\n",
       "      <td>2.699</td>\n",
       "      <td>4.825</td>\n",
       "      <td>1.0</td>\n",
       "    </tr>\n",
       "    <tr>\n",
       "      <th>3</th>\n",
       "      <td>13.84</td>\n",
       "      <td>13.94</td>\n",
       "      <td>0.8955</td>\n",
       "      <td>5.324</td>\n",
       "      <td>3.379</td>\n",
       "      <td>2.259</td>\n",
       "      <td>4.805</td>\n",
       "      <td>1.0</td>\n",
       "    </tr>\n",
       "    <tr>\n",
       "      <th>4</th>\n",
       "      <td>16.14</td>\n",
       "      <td>14.99</td>\n",
       "      <td>0.9034</td>\n",
       "      <td>5.658</td>\n",
       "      <td>3.562</td>\n",
       "      <td>1.355</td>\n",
       "      <td>5.175</td>\n",
       "      <td>1.0</td>\n",
       "    </tr>\n",
       "    <tr>\n",
       "      <th>...</th>\n",
       "      <td>...</td>\n",
       "      <td>...</td>\n",
       "      <td>...</td>\n",
       "      <td>...</td>\n",
       "      <td>...</td>\n",
       "      <td>...</td>\n",
       "      <td>...</td>\n",
       "      <td>...</td>\n",
       "    </tr>\n",
       "    <tr>\n",
       "      <th>205</th>\n",
       "      <td>12.19</td>\n",
       "      <td>13.20</td>\n",
       "      <td>0.8783</td>\n",
       "      <td>5.137</td>\n",
       "      <td>2.981</td>\n",
       "      <td>3.631</td>\n",
       "      <td>4.870</td>\n",
       "      <td>3.0</td>\n",
       "    </tr>\n",
       "    <tr>\n",
       "      <th>206</th>\n",
       "      <td>11.23</td>\n",
       "      <td>12.88</td>\n",
       "      <td>0.8511</td>\n",
       "      <td>5.140</td>\n",
       "      <td>2.795</td>\n",
       "      <td>4.325</td>\n",
       "      <td>5.003</td>\n",
       "      <td>3.0</td>\n",
       "    </tr>\n",
       "    <tr>\n",
       "      <th>207</th>\n",
       "      <td>13.20</td>\n",
       "      <td>13.66</td>\n",
       "      <td>0.8883</td>\n",
       "      <td>5.236</td>\n",
       "      <td>3.232</td>\n",
       "      <td>8.315</td>\n",
       "      <td>5.056</td>\n",
       "      <td>3.0</td>\n",
       "    </tr>\n",
       "    <tr>\n",
       "      <th>208</th>\n",
       "      <td>11.84</td>\n",
       "      <td>13.21</td>\n",
       "      <td>0.8521</td>\n",
       "      <td>5.175</td>\n",
       "      <td>2.836</td>\n",
       "      <td>3.598</td>\n",
       "      <td>5.044</td>\n",
       "      <td>3.0</td>\n",
       "    </tr>\n",
       "    <tr>\n",
       "      <th>209</th>\n",
       "      <td>12.30</td>\n",
       "      <td>13.34</td>\n",
       "      <td>0.8684</td>\n",
       "      <td>5.243</td>\n",
       "      <td>2.974</td>\n",
       "      <td>5.637</td>\n",
       "      <td>5.063</td>\n",
       "      <td>3.0</td>\n",
       "    </tr>\n",
       "  </tbody>\n",
       "</table>\n",
       "<p>210 rows × 8 columns</p>\n",
       "</div>"
      ],
      "text/plain": [
       "      area  perimeter  compactness  length  width  asymmetry_coefficient  \\\n",
       "0    15.26      14.84       0.8710   5.763  3.312                  2.221   \n",
       "1    14.88      14.57       0.8811   5.554  3.333                  1.018   \n",
       "2    14.29      14.09       0.9050   5.291  3.337                  2.699   \n",
       "3    13.84      13.94       0.8955   5.324  3.379                  2.259   \n",
       "4    16.14      14.99       0.9034   5.658  3.562                  1.355   \n",
       "..     ...        ...          ...     ...    ...                    ...   \n",
       "205  12.19      13.20       0.8783   5.137  2.981                  3.631   \n",
       "206  11.23      12.88       0.8511   5.140  2.795                  4.325   \n",
       "207  13.20      13.66       0.8883   5.236  3.232                  8.315   \n",
       "208  11.84      13.21       0.8521   5.175  2.836                  3.598   \n",
       "209  12.30      13.34       0.8684   5.243  2.974                  5.637   \n",
       "\n",
       "     groove_length  class  \n",
       "0            5.220    1.0  \n",
       "1            4.956    1.0  \n",
       "2            4.825    1.0  \n",
       "3            4.805    1.0  \n",
       "4            5.175    1.0  \n",
       "..             ...    ...  \n",
       "205          4.870    3.0  \n",
       "206          5.003    3.0  \n",
       "207          5.056    3.0  \n",
       "208          5.044    3.0  \n",
       "209          5.063    3.0  \n",
       "\n",
       "[210 rows x 8 columns]"
      ]
     },
     "execution_count": 35,
     "metadata": {},
     "output_type": "execute_result"
    }
   ],
   "source": [
    "seeds"
   ]
  },
  {
   "cell_type": "code",
   "execution_count": 44,
   "metadata": {},
   "outputs": [
    {
     "name": "stdout",
     "output_type": "stream",
     "text": [
      "1.1739012862446276 1.1818682900697792 1.3364649282146637\n"
     ]
    }
   ],
   "source": [
    "print(seeds1.asymmetry_coefficient.std(),\\\n",
    "      seeds2.asymmetry_coefficient.std(),\\\n",
    "      seeds3.asymmetry_coefficient.std())"
   ]
  },
  {
   "cell_type": "code",
   "execution_count": 82,
   "metadata": {},
   "outputs": [
    {
     "data": {
      "text/plain": [
       "0.16256364197003603"
      ]
     },
     "execution_count": 82,
     "metadata": {},
     "output_type": "execute_result"
    }
   ],
   "source": [
    "obs_diff = seeds3.asymmetry_coefficient.std() - seeds1.asymmetry_coefficient.std()\n",
    "obs_diff"
   ]
  },
  {
   "cell_type": "code",
   "execution_count": 83,
   "metadata": {},
   "outputs": [],
   "source": [
    "seeds1_shifted = pd.DataFrame(seeds1.asymmetry_coefficient - seeds1.asymmetry_coefficient.mean() + obs_diff)\n",
    "#seeds2_shifted = pd.DataFrame(seeds2.asymmetry_coefficient - seeds2.asymmetry_coefficient.mean() + obs_diff)\n",
    "seeds3_shifted = pd.DataFrame(seeds3.asymmetry_coefficient - seeds3.asymmetry_coefficient.mean() + obs_diff)\n"
   ]
  },
  {
   "cell_type": "code",
   "execution_count": 84,
   "metadata": {},
   "outputs": [],
   "source": [
    "std_sample = pd.DataFrame({'std_diff':[round(seeds1_shifted.asymmetry_coefficient.sample(len(seeds1),replace=True).std()-\\\n",
    "                                             seeds2_shifted.asymmetry_coefficient.sample(len(seeds2),replace=True).std(),2)\\\n",
    "                                       for i in range(20000)]})"
   ]
  },
  {
   "cell_type": "code",
   "execution_count": 92,
   "metadata": {},
   "outputs": [
    {
     "data": {
      "image/png": "[encoded data removed]",
      "text/plain": [
       "<Figure size 1008x360 with 1 Axes>"
      ]
     },
     "metadata": {
      "needs_background": "light"
     },
     "output_type": "display_data"
    }
   ],
   "source": [
    "_=std_sample.hist(bins=30, edgecolor='k', figsize=(14,5), grid=False, alpha=.5, density=True)\n",
    "_=plt.axvline(obs_diff, color='k', linestyle=\"-.\")\n",
    "_=plt.axvline(std_sample.std_diff.mean(), color='green')"
   ]
  },
  {
   "cell_type": "code",
   "execution_count": 89,
   "metadata": {},
   "outputs": [
    {
     "data": {
      "text/html": [
       "<div>\n",
       "<style scoped>\n",
       "    .dataframe tbody tr th:only-of-type {\n",
       "        vertical-align: middle;\n",
       "    }\n",
       "\n",
       "    .dataframe tbody tr th {\n",
       "        vertical-align: top;\n",
       "    }\n",
       "\n",
       "    .dataframe thead th {\n",
       "        text-align: right;\n",
       "    }\n",
       "</style>\n",
       "<table border=\"1\" class=\"dataframe\">\n",
       "  <thead>\n",
       "    <tr style=\"text-align: right;\">\n",
       "      <th></th>\n",
       "      <th>std_diff</th>\n",
       "    </tr>\n",
       "  </thead>\n",
       "  <tbody>\n",
       "    <tr>\n",
       "      <th>0.025</th>\n",
       "      <td>-0.30</td>\n",
       "    </tr>\n",
       "    <tr>\n",
       "      <th>0.975</th>\n",
       "      <td>0.29</td>\n",
       "    </tr>\n",
       "  </tbody>\n",
       "</table>\n",
       "</div>"
      ],
      "text/plain": [
       "       std_diff\n",
       "0.025     -0.30\n",
       "0.975      0.29"
      ]
     },
     "execution_count": 89,
     "metadata": {},
     "output_type": "execute_result"
    }
   ],
   "source": [
    "std_sample.quantile([.025, .975])"
   ]
  },
  {
   "cell_type": "code",
   "execution_count": 93,
   "metadata": {},
   "outputs": [
    {
     "data": {
      "text/plain": [
       "88.285"
      ]
     },
     "execution_count": 93,
     "metadata": {},
     "output_type": "execute_result"
    }
   ],
   "source": [
    "st.percentileofscore(std_sample, score=obs_diff)"
   ]
  },
  {
   "cell_type": "code",
   "execution_count": null,
   "metadata": {},
   "outputs": [],
   "source": []
  },
  {
   "cell_type": "code",
   "execution_count": 95,
   "metadata": {},
   "outputs": [
    {
     "data": {
      "image/png": "[encoded data removed]",
      "text/plain": [
       "<Figure size 1008x360 with 1 Axes>"
      ]
     },
     "metadata": {
      "needs_background": "light"
     },
     "output_type": "display_data"
    }
   ],
   "source": [
    "obs_diff = seeds3.area.mean() - seeds1.area.mean()\n",
    "seeds1_shifted = pd.DataFrame(seeds1.area - seeds1.area.mean() + obs_diff)\n",
    "#seeds2_shifted = pd.DataFrame(seeds2.asymmetry_coefficient - seeds2.asymmetry_coefficient.mean() + obs_diff)\n",
    "seeds3_shifted = pd.DataFrame(seeds3.area - seeds3.area.mean() + obs_diff)\n",
    "mean_diff = pd.DataFrame({'mean_diff':[round(seeds1_shifted.area.sample(len(seeds1),replace=True).mean()-\\\n",
    "                                             seeds3_shifted.area.sample(len(seeds3),replace=True).mean(),2)\\\n",
    "                                       for i in range(20000)]})\n",
    "_=mean_diff.hist(bins=30, edgecolor='k', figsize=(14,5), grid=False, alpha=.5, density=True)\n",
    "_=plt.axvline(obs_diff, color='k', linestyle=\"-.\")\n",
    "_=plt.axvline(mean_diff.mean_diff.mean(), color='green')"
   ]
  },
  {
   "cell_type": "code",
   "execution_count": 96,
   "metadata": {},
   "outputs": [
    {
     "data": {
      "text/plain": [
       "0.0"
      ]
     },
     "execution_count": 96,
     "metadata": {},
     "output_type": "execute_result"
    }
   ],
   "source": [
    "st.percentileofscore(mean_diff, score=obs_diff)"
   ]
  },
  {
   "cell_type": "code",
   "execution_count": 97,
   "metadata": {},
   "outputs": [
    {
     "data": {
      "text/html": [
       "<div>\n",
       "<style scoped>\n",
       "    .dataframe tbody tr th:only-of-type {\n",
       "        vertical-align: middle;\n",
       "    }\n",
       "\n",
       "    .dataframe tbody tr th {\n",
       "        vertical-align: top;\n",
       "    }\n",
       "\n",
       "    .dataframe thead th {\n",
       "        text-align: right;\n",
       "    }\n",
       "</style>\n",
       "<table border=\"1\" class=\"dataframe\">\n",
       "  <thead>\n",
       "    <tr style=\"text-align: right;\">\n",
       "      <th></th>\n",
       "      <th>mean_diff</th>\n",
       "    </tr>\n",
       "  </thead>\n",
       "  <tbody>\n",
       "    <tr>\n",
       "      <th>0.025</th>\n",
       "      <td>-0.34</td>\n",
       "    </tr>\n",
       "    <tr>\n",
       "      <th>0.975</th>\n",
       "      <td>0.32</td>\n",
       "    </tr>\n",
       "  </tbody>\n",
       "</table>\n",
       "</div>"
      ],
      "text/plain": [
       "       mean_diff\n",
       "0.025      -0.34\n",
       "0.975       0.32"
      ]
     },
     "execution_count": 97,
     "metadata": {},
     "output_type": "execute_result"
    }
   ],
   "source": [
    "mean_diff.quantile([.025,.975])"
   ]
  },
  {
   "cell_type": "code",
   "execution_count": null,
   "metadata": {},
   "outputs": [],
   "source": []
  },
  {
   "cell_type": "code",
   "execution_count": 102,
   "metadata": {},
   "outputs": [
    {
     "data": {
      "image/png": "[encoded data removed]",
      "text/plain": [
       "<Figure size 1008x360 with 1 Axes>"
      ]
     },
     "metadata": {
      "needs_background": "light"
     },
     "output_type": "display_data"
    }
   ],
   "source": [
    "obs_diff = seeds3.groove_length.mean() - seeds1.groove_length.mean()\n",
    "seeds1_shifted = pd.DataFrame(seeds1.groove_length - seeds1.groove_length.mean() + obs_diff)\n",
    "seeds2_shifted = pd.DataFrame(seeds2.groove_length - seeds2.groove_length.mean() + obs_diff)\n",
    "seeds3_shifted = pd.DataFrame(seeds3.groove_length - seeds3.groove_length.mean() + obs_diff)\n",
    "mean_diff = pd.DataFrame({'mean_diff':[round(seeds3_shifted.groove_length.sample(len(seeds3),replace=True).mean()-\\\n",
    "                                             seeds1_shifted.groove_length.sample(len(seeds2),replace=True).mean(),2)\\\n",
    "                                       for i in range(20000)]})\n",
    "_=mean_diff.hist(bins=30, edgecolor='k', figsize=(14,5), grid=False, alpha=.5, density=True)\n",
    "_=plt.axvline(obs_diff, color='k', linestyle=\"-.\")\n",
    "_=plt.axvline(mean_diff.mean_diff.mean(), color='green')"
   ]
  },
  {
   "cell_type": "code",
   "execution_count": null,
   "metadata": {},
   "outputs": [],
   "source": []
  },
  {
   "cell_type": "markdown",
   "metadata": {},
   "source": [
    "## Pearson Correlation Coefficient\n",
    "\n",
    "In this section we look for correlation between the features by calculating the Pearson Correlation Coefficient for each feature. "
   ]
  },
  {
   "cell_type": "code",
   "execution_count": 201,
   "metadata": {},
   "outputs": [],
   "source": [
    "def pearsonr(data):\n",
    "    values = {}\n",
    "    rlst =[]\n",
    "    plst = []\n",
    "    cols = []\n",
    "    for i in range(len(data.columns)-1):\n",
    "        for j in range(len(data.columns)-1):\n",
    "            if j != i:\n",
    "                r,p = st.pearsonr(data[data.columns[i]],data[data.columns[j]])\n",
    "                cols.append((data.columns[i], data.columns[j]))\n",
    "                rlst.append(r)\n",
    "                plst.append(p)\n",
    "                values = pd.DataFrame({'features':cols, 'r':rlst, 'p':plst})\n",
    "                values.index=values['features']\n",
    "                values.drop(labels='features', axis=1, inplace=True)\n",
    "    return(values)\n",
    "    "
   ]
  },
  {
   "cell_type": "code",
   "execution_count": 206,
   "metadata": {},
   "outputs": [
    {
     "data": {
      "text/html": [
       "<div>\n",
       "<style scoped>\n",
       "    .dataframe tbody tr th:only-of-type {\n",
       "        vertical-align: middle;\n",
       "    }\n",
       "\n",
       "    .dataframe tbody tr th {\n",
       "        vertical-align: top;\n",
       "    }\n",
       "\n",
       "    .dataframe thead th {\n",
       "        text-align: right;\n",
       "    }\n",
       "</style>\n",
       "<table border=\"1\" class=\"dataframe\">\n",
       "  <thead>\n",
       "    <tr style=\"text-align: right;\">\n",
       "      <th></th>\n",
       "      <th>r</th>\n",
       "    </tr>\n",
       "    <tr>\n",
       "      <th>features</th>\n",
       "      <th></th>\n",
       "    </tr>\n",
       "  </thead>\n",
       "  <tbody>\n",
       "    <tr>\n",
       "      <th>(area, perimeter)</th>\n",
       "      <td>0.975806</td>\n",
       "    </tr>\n",
       "    <tr>\n",
       "      <th>(area, compactness)</th>\n",
       "      <td>0.272633</td>\n",
       "    </tr>\n",
       "    <tr>\n",
       "      <th>(area, length)</th>\n",
       "      <td>0.826427</td>\n",
       "    </tr>\n",
       "    <tr>\n",
       "      <th>(area, width)</th>\n",
       "      <td>0.880493</td>\n",
       "    </tr>\n",
       "    <tr>\n",
       "      <th>(area, asymmetry_coefficient)</th>\n",
       "      <td>-0.039503</td>\n",
       "    </tr>\n",
       "  </tbody>\n",
       "</table>\n",
       "</div>"
      ],
      "text/plain": [
       "                                      r\n",
       "features                               \n",
       "(area, perimeter)              0.975806\n",
       "(area, compactness)            0.272633\n",
       "(area, length)                 0.826427\n",
       "(area, width)                  0.880493\n",
       "(area, asymmetry_coefficient) -0.039503"
      ]
     },
     "execution_count": 206,
     "metadata": {},
     "output_type": "execute_result"
    }
   ],
   "source": [
    "test = pearsonr(seeds2)\n",
    "test.drop('p', axis=1, inplace=True)\n",
    "test.head()"
   ]
  },
  {
   "cell_type": "code",
   "execution_count": 220,
   "metadata": {},
   "outputs": [
    {
     "data": {
      "image/png": "[encoded data removed]",
      "text/plain": [
       "<Figure size 1008x360 with 1 Axes>"
      ]
     },
     "metadata": {
      "needs_background": "light"
     },
     "output_type": "display_data"
    },
    {
     "data": {
      "image/png": "[encoded data removed]",
      "text/plain": [
       "<Figure size 1008x360 with 1 Axes>"
      ]
     },
     "metadata": {
      "needs_background": "light"
     },
     "output_type": "display_data"
    },
    {
     "data": {
      "image/png": "[encoded data removed]",
      "text/plain": [
       "<Figure size 1008x360 with 1 Axes>"
      ]
     },
     "metadata": {
      "needs_background": "light"
     },
     "output_type": "display_data"
    }
   ],
   "source": [
    "pearsonDF1 = pearsonr(seeds1)\n",
    "pearsonDF2 = pearsonr(seeds2)\n",
    "pearsonDF3 = pearsonr(seeds3)\n",
    "_=pearsonDF1.drop('p', axis=1).hist(bins=20, figsize=(14,5), grid=False, edgecolor='k')\n",
    "_=pearsonDF2.drop('p', axis=1).hist(bins=20, figsize=(14,5), grid=False, edgecolor='k')\n",
    "_=pearsonDF3.drop('p', axis=1).hist(bins=20, figsize=(14,5), grid=False, edgecolor='k')"
   ]
  },
  {
   "cell_type": "code",
   "execution_count": 221,
   "metadata": {},
   "outputs": [],
   "source": [
    "pearsonDF1.drop('p', axis=1, inplace=True)\n",
    "pearsonDF2.drop('p', axis=1, inplace=True)\n",
    "pearsonDF3.drop('p', axis=1, inplace=True)\n"
   ]
  },
  {
   "cell_type": "code",
   "execution_count": 285,
   "metadata": {},
   "outputs": [
    {
     "data": {
      "text/html": [
       "<div>\n",
       "<style scoped>\n",
       "    .dataframe tbody tr th:only-of-type {\n",
       "        vertical-align: middle;\n",
       "    }\n",
       "\n",
       "    .dataframe tbody tr th {\n",
       "        vertical-align: top;\n",
       "    }\n",
       "\n",
       "    .dataframe thead th {\n",
       "        text-align: right;\n",
       "    }\n",
       "</style>\n",
       "<table border=\"1\" class=\"dataframe\">\n",
       "  <thead>\n",
       "    <tr style=\"text-align: right;\">\n",
       "      <th></th>\n",
       "      <th>Kama</th>\n",
       "      <th>Rosa</th>\n",
       "      <th>Canadia</th>\n",
       "    </tr>\n",
       "    <tr>\n",
       "      <th>features</th>\n",
       "      <th></th>\n",
       "      <th></th>\n",
       "      <th></th>\n",
       "    </tr>\n",
       "  </thead>\n",
       "  <tbody>\n",
       "    <tr>\n",
       "      <th>(area, perimeter)</th>\n",
       "      <td>0.976437</td>\n",
       "      <td>0.975806</td>\n",
       "      <td>0.907601</td>\n",
       "    </tr>\n",
       "    <tr>\n",
       "      <th>(area, compactness)</th>\n",
       "      <td>0.371037</td>\n",
       "      <td>0.272633</td>\n",
       "      <td>0.546760</td>\n",
       "    </tr>\n",
       "    <tr>\n",
       "      <th>(area, length)</th>\n",
       "      <td>0.834778</td>\n",
       "      <td>0.826427</td>\n",
       "      <td>0.516603</td>\n",
       "    </tr>\n",
       "    <tr>\n",
       "      <th>(area, width)</th>\n",
       "      <td>0.900066</td>\n",
       "      <td>0.880493</td>\n",
       "      <td>0.863824</td>\n",
       "    </tr>\n",
       "    <tr>\n",
       "      <th>(area, asymmetry_coefficient)</th>\n",
       "      <td>-0.050482</td>\n",
       "      <td>-0.039503</td>\n",
       "      <td>0.039612</td>\n",
       "    </tr>\n",
       "  </tbody>\n",
       "</table>\n",
       "</div>"
      ],
      "text/plain": [
       "                                   Kama      Rosa   Canadia\n",
       "features                                                   \n",
       "(area, perimeter)              0.976437  0.975806  0.907601\n",
       "(area, compactness)            0.371037  0.272633  0.546760\n",
       "(area, length)                 0.834778  0.826427  0.516603\n",
       "(area, width)                  0.900066  0.880493  0.863824\n",
       "(area, asymmetry_coefficient) -0.050482 -0.039503  0.039612"
      ]
     },
     "execution_count": 285,
     "metadata": {},
     "output_type": "execute_result"
    }
   ],
   "source": [
    "merged = pearsonDF1.merge(pearsonDF2, on=pearsonDF1.index)\n",
    "merged.index=merged['key_0']\n",
    "merged.drop('key_0', axis=1, inplace=True)\n",
    "merged = merged.merge(pearsonDF3, on=merged.index)\n",
    "merged.index=merged['key_0']\n",
    "merged.drop('key_0', axis=1, inplace=True)\n",
    "merged.drop_duplicates(inplace=True)\n",
    "merged.columns = ['Kama','Rosa','Canadia']\n",
    "merged.index.name = 'features'\n",
    "merged.head()"
   ]
  },
  {
   "cell_type": "code",
   "execution_count": 286,
   "metadata": {},
   "outputs": [
    {
     "data": {
      "image/png": "[encoded data removed]",
      "text/plain": [
       "<Figure size 864x504 with 2 Axes>"
      ]
     },
     "metadata": {
      "needs_background": "light"
     },
     "output_type": "display_data"
    }
   ],
   "source": [
    "_=plt.figure(figsize=(12,7))\n",
    "_=sns.heatmap(merged, cmap='coolwarm')\n",
    "_=plt.title('Features\\'s Pearson Correlation Coefficients Map')"
   ]
  },
  {
   "cell_type": "code",
   "execution_count": null,
   "metadata": {},
   "outputs": [],
   "source": []
  },
  {
   "cell_type": "code",
   "execution_count": null,
   "metadata": {},
   "outputs": [],
   "source": []
  },
  {
   "cell_type": "code",
   "execution_count": null,
   "metadata": {},
   "outputs": [],
   "source": []
  },
  {
   "cell_type": "code",
   "execution_count": null,
   "metadata": {},
   "outputs": [],
   "source": []
  },
  {
   "cell_type": "code",
   "execution_count": 138,
   "metadata": {},
   "outputs": [],
   "source": []
  },
  {
   "cell_type": "code",
   "execution_count": null,
   "metadata": {},
   "outputs": [],
   "source": []
  },
  {
   "cell_type": "code",
   "execution_count": null,
   "metadata": {},
   "outputs": [],
   "source": []
  }
 ],
 "metadata": {
  "kernelspec": {
   "display_name": "Python 3",
   "language": "python",
   "name": "python3"
  },
  "language_info": {
   "codemirror_mode": {
    "name": "ipython",
    "version": 3
   },
   "file_extension": ".py",
   "mimetype": "text/x-python",
   "name": "python",
   "nbconvert_exporter": "python",
   "pygments_lexer": "ipython3",
   "version": "3.7.6"
  }
 },
 "nbformat": 4,
 "nbformat_minor": 4
}
