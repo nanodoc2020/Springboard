{
 "cells": [
  {
   "cell_type": "markdown",
   "metadata": {},
   "source": [
    "# Statistical Analysis of the seeds dataset\n",
    "\n",
    "This notebook contains the code and results of the anaysis done on the seeds dataset. Bootstrapping is a wonderful approach to test if the sample statistics are representative of the true popoulation statistics. A comparison of Pearson correlation coefficients determines which features are highly correlated, and in essence can then be left out of the final model to reduce redundancy and increase performance.  "
   ]
  },
  {
   "cell_type": "code",
   "execution_count": 7,
   "metadata": {},
   "outputs": [],
   "source": [
    "import numpy as np\n",
    "import pandas as pd\n",
    "import matplotlib.pyplot as plt\n",
    "import pymc3 as pm\n",
    "import statsmodels as sm\n",
    "%matplotlib inline\n"
   ]
  },
  {
   "cell_type": "code",
   "execution_count": 12,
   "metadata": {},
   "outputs": [],
   "source": [
    "#Load the data into a data frame and separate into X and y.\n",
    "seeds = pd.read_csv('seeds.csv')"
   ]
  },
  {
   "cell_type": "code",
   "execution_count": 18,
   "metadata": {},
   "outputs": [
    {
     "name": "stdout",
     "output_type": "stream",
     "text": [
      "<class 'pandas.core.frame.DataFrame'>\n",
      "Int64Index: 70 entries, 70 to 139\n",
      "Data columns (total 8 columns):\n",
      " #   Column                 Non-Null Count  Dtype  \n",
      "---  ------                 --------------  -----  \n",
      " 0   area                   70 non-null     float64\n",
      " 1   perimeter              70 non-null     float64\n",
      " 2   compactness            70 non-null     float64\n",
      " 3   length                 70 non-null     float64\n",
      " 4   width                  70 non-null     float64\n",
      " 5   asymmetry_coefficient  70 non-null     float64\n",
      " 6   groove_length          70 non-null     float64\n",
      " 7   class                  70 non-null     float64\n",
      "dtypes: float64(8)\n",
      "memory usage: 4.9 KB\n"
     ]
    }
   ],
   "source": [
    "#Separate the classes for sampling:\n",
    "seeds1 = seeds[seeds[\"class\"]==1]\n",
    "seeds2 = seeds[seeds[\"class\"]==2]\n",
    "seeds3 = seeds[seeds[\"class\"]==3]\n",
    "seeds2.info()"
   ]
  },
  {
   "cell_type": "markdown",
   "metadata": {},
   "source": [
    "## Bootstrapping\n",
    "\n",
    "In this section we randomly sample the data for each class, creating 10,000 random samples of the training data, all of equal size. We compare the results with histograms and find the confidence interval and p-value for each. This value will let us know how representative of the world's population is the samle's data."
   ]
  },
  {
   "cell_type": "code",
   "execution_count": 26,
   "metadata": {},
   "outputs": [],
   "source": [
    "def sampler(df, num=1, samples=1):\n",
    "    samples = [pd.DataFrame(df.sample(n=num ,replace=True, random_state=42, axis=0)) for i in range(samples)]\n",
    "    return(samples)"
   ]
  },
  {
   "cell_type": "code",
   "execution_count": null,
   "metadata": {},
   "outputs": [],
   "source": [
    "samples1 = sampler(seeds1, num=len(seeds1), samples=10000)"
   ]
  },
  {
   "cell_type": "code",
   "execution_count": null,
   "metadata": {},
   "outputs": [],
   "source": []
  },
  {
   "cell_type": "code",
   "execution_count": null,
   "metadata": {},
   "outputs": [],
   "source": []
  },
  {
   "cell_type": "code",
   "execution_count": null,
   "metadata": {},
   "outputs": [],
   "source": []
  },
  {
   "cell_type": "code",
   "execution_count": null,
   "metadata": {},
   "outputs": [],
   "source": []
  },
  {
   "cell_type": "code",
   "execution_count": null,
   "metadata": {},
   "outputs": [],
   "source": []
  },
  {
   "cell_type": "code",
   "execution_count": null,
   "metadata": {},
   "outputs": [],
   "source": []
  },
  {
   "cell_type": "code",
   "execution_count": null,
   "metadata": {},
   "outputs": [],
   "source": []
  },
  {
   "cell_type": "code",
   "execution_count": null,
   "metadata": {},
   "outputs": [],
   "source": []
  },
  {
   "cell_type": "code",
   "execution_count": null,
   "metadata": {},
   "outputs": [],
   "source": []
  }
 ],
 "metadata": {
  "kernelspec": {
   "display_name": "Python 3",
   "language": "python",
   "name": "python3"
  },
  "language_info": {
   "codemirror_mode": {
    "name": "ipython",
    "version": 3
   },
   "file_extension": ".py",
   "mimetype": "text/x-python",
   "name": "python",
   "nbconvert_exporter": "python",
   "pygments_lexer": "ipython3",
   "version": "3.7.6"
  }
 },
 "nbformat": 4,
 "nbformat_minor": 4
}
