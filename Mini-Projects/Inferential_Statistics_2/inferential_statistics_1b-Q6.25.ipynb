{
 "cells": [
  {
   "cell_type": "markdown",
   "metadata": {},
   "source": [
    "# Inferential Statistics Ib - Frequentism"
   ]
  },
  {
   "cell_type": "markdown",
   "metadata": {},
   "source": [
    "## Learning objectives"
   ]
  },
  {
   "cell_type": "markdown",
   "metadata": {},
   "source": [
    "Welcome to the second Frequentist inference mini-project! Over the course of working on this mini-project and the previous frequentist mini-project, you'll learn the fundamental concepts associated with frequentist inference. The following list includes the topics you will become familiar with as you work through these two mini-projects:\n",
    "* the _z_-statistic\n",
    "* the _t_-statistic\n",
    "* the difference and relationship between the two\n",
    "* the Central Limit Theorem, its assumptions and consequences\n",
    "* how to estimate the population mean and standard deviation from a sample\n",
    "* the concept of a sampling distribution of a test statistic, particularly for the mean\n",
    "* how to combine these concepts to calculate confidence intervals and p-values\n",
    "* how those confidence intervals and p-values allow you to perform hypothesis (or A/B) tests"
   ]
  },
  {
   "cell_type": "markdown",
   "metadata": {},
   "source": [
    "## Prerequisites"
   ]
  },
  {
   "cell_type": "markdown",
   "metadata": {},
   "source": [
    "* what a random variable is\n",
    "* what a probability density function (pdf) is\n",
    "* what the cumulative density function is\n",
    "* a high-level sense of what the Normal distribution\n",
    "\n",
    "If these concepts are new to you, please take a few moments to Google these topics in order to get a sense of what they are and how you might use them.\n",
    "\n",
    "These two notebooks were designed to bridge the gap between having a basic understanding of probability and random variables and being able to apply these concepts in Python. This second frequentist inference mini-project focuses on a real-world application of this type of inference to give you further practice using these concepts. "
   ]
  },
  {
   "cell_type": "markdown",
   "metadata": {},
   "source": [
    "In the previous notebook, we used only data from a known normal distribution. You'll now tackle real data, rather than simulated data, and answer some relevant real-world business problems using the data."
   ]
  },
  {
   "cell_type": "markdown",
   "metadata": {},
   "source": [
    "## Hospital medical charges"
   ]
  },
  {
   "cell_type": "markdown",
   "metadata": {},
   "source": [
    "Imagine that a hospital has hired you as their data analyst. An administrator is working on the hospital's business operations plan and needs you to help them answer some business questions. This mini-project, as well as the bootstrap and Bayesian inference mini-projects also found in this unit are designed to illustrate how each of the inferential statistics methods have their uses for different use cases. In this assignment notebook, you're going to use frequentist statistical inference on a data sample to answer the questions:\n",
    "* has the hospital's revenue stream fallen below a key threshold?\n",
    "* are patients with insurance really charged different amounts than those without?\n",
    "Answering that last question with a frequentist approach makes some assumptions, or requires some knowledge, about the two groups. In the next mini-project, you'll use bootstrapping to test that assumption. And in the final mini-project of the unit, you're going to create a model for simulating _individual_ charges (not a sampling distribution) that the hospital can use to model a range of scenarios."
   ]
  },
  {
   "cell_type": "markdown",
   "metadata": {},
   "source": [
    "We are going to use some data on medical charges obtained from [Kaggle](https://www.kaggle.com/easonlai/sample-insurance-claim-prediction-dataset). For the purposes of this exercise, assume the observations are the result of random sampling from our one hospital. Recall in the previous assignment, we introduced the Central Limit Theorem (CLT), and how it tells us that the distributions of sample statistics approach a normal distribution as $n$ increases. The amazing thing about this is that it applies to the sampling distributions of statistics that have been calculated from even highly non-normal distributions of data. Remember, also, that hypothesis testing is very much based on making inferences about such sample statistics. You're going to rely heavily on the CLT to apply frequentist (parametric) tests to answer the questions in this notebook."
   ]
  },
  {
   "cell_type": "code",
   "execution_count": 186,
   "metadata": {},
   "outputs": [],
   "source": [
    "import pandas as pd\n",
    "import numpy as np\n",
    "import matplotlib.pyplot as plt\n",
    "from scipy.stats import t, ttest_ind, ttest_1samp, norm, percentileofscore\n",
    "from numpy.random import seed, sample\n",
    "%matplotlib inline\n",
    "\n",
    "medical = pd.read_csv('data/insurance2.csv')"
   ]
  },
  {
   "cell_type": "code",
   "execution_count": 187,
   "metadata": {},
   "outputs": [
    {
     "data": {
      "text/plain": [
       "(1338, 8)"
      ]
     },
     "execution_count": 187,
     "metadata": {},
     "output_type": "execute_result"
    }
   ],
   "source": [
    "medical.shape"
   ]
  },
  {
   "cell_type": "code",
   "execution_count": 188,
   "metadata": {},
   "outputs": [
    {
     "data": {
      "text/html": [
       "<div>\n",
       "<style scoped>\n",
       "    .dataframe tbody tr th:only-of-type {\n",
       "        vertical-align: middle;\n",
       "    }\n",
       "\n",
       "    .dataframe tbody tr th {\n",
       "        vertical-align: top;\n",
       "    }\n",
       "\n",
       "    .dataframe thead th {\n",
       "        text-align: right;\n",
       "    }\n",
       "</style>\n",
       "<table border=\"1\" class=\"dataframe\">\n",
       "  <thead>\n",
       "    <tr style=\"text-align: right;\">\n",
       "      <th></th>\n",
       "      <th>age</th>\n",
       "      <th>sex</th>\n",
       "      <th>bmi</th>\n",
       "      <th>children</th>\n",
       "      <th>smoker</th>\n",
       "      <th>region</th>\n",
       "      <th>charges</th>\n",
       "      <th>insuranceclaim</th>\n",
       "    </tr>\n",
       "  </thead>\n",
       "  <tbody>\n",
       "    <tr>\n",
       "      <th>0</th>\n",
       "      <td>19</td>\n",
       "      <td>0</td>\n",
       "      <td>27.900</td>\n",
       "      <td>0</td>\n",
       "      <td>1</td>\n",
       "      <td>3</td>\n",
       "      <td>16884.92400</td>\n",
       "      <td>1</td>\n",
       "    </tr>\n",
       "    <tr>\n",
       "      <th>1</th>\n",
       "      <td>18</td>\n",
       "      <td>1</td>\n",
       "      <td>33.770</td>\n",
       "      <td>1</td>\n",
       "      <td>0</td>\n",
       "      <td>2</td>\n",
       "      <td>1725.55230</td>\n",
       "      <td>1</td>\n",
       "    </tr>\n",
       "    <tr>\n",
       "      <th>2</th>\n",
       "      <td>28</td>\n",
       "      <td>1</td>\n",
       "      <td>33.000</td>\n",
       "      <td>3</td>\n",
       "      <td>0</td>\n",
       "      <td>2</td>\n",
       "      <td>4449.46200</td>\n",
       "      <td>0</td>\n",
       "    </tr>\n",
       "    <tr>\n",
       "      <th>3</th>\n",
       "      <td>33</td>\n",
       "      <td>1</td>\n",
       "      <td>22.705</td>\n",
       "      <td>0</td>\n",
       "      <td>0</td>\n",
       "      <td>1</td>\n",
       "      <td>21984.47061</td>\n",
       "      <td>0</td>\n",
       "    </tr>\n",
       "    <tr>\n",
       "      <th>4</th>\n",
       "      <td>32</td>\n",
       "      <td>1</td>\n",
       "      <td>28.880</td>\n",
       "      <td>0</td>\n",
       "      <td>0</td>\n",
       "      <td>1</td>\n",
       "      <td>3866.85520</td>\n",
       "      <td>1</td>\n",
       "    </tr>\n",
       "  </tbody>\n",
       "</table>\n",
       "</div>"
      ],
      "text/plain": [
       "   age  sex     bmi  children  smoker  region      charges  insuranceclaim\n",
       "0   19    0  27.900         0       1       3  16884.92400               1\n",
       "1   18    1  33.770         1       0       2   1725.55230               1\n",
       "2   28    1  33.000         3       0       2   4449.46200               0\n",
       "3   33    1  22.705         0       0       1  21984.47061               0\n",
       "4   32    1  28.880         0       0       1   3866.85520               1"
      ]
     },
     "execution_count": 188,
     "metadata": {},
     "output_type": "execute_result"
    }
   ],
   "source": [
    "medical.head()"
   ]
  },
  {
   "cell_type": "markdown",
   "metadata": {},
   "source": [
    "__Q:__ Plot the histogram of charges and calculate the mean and standard deviation. Comment on the appropriateness of these statistics for the data."
   ]
  },
  {
   "cell_type": "markdown",
   "metadata": {},
   "source": [
    "__A:__"
   ]
  },
  {
   "cell_type": "code",
   "execution_count": 189,
   "metadata": {},
   "outputs": [
    {
     "name": "stdout",
     "output_type": "stream",
     "text": [
      "The charges are clearly not normally distributed, and show more of a decaying exponential behavior.\n"
     ]
    },
    {
     "data": {
      "image/png": "[encoded data removed]",
      "text/plain": [
       "<Figure size 432x288 with 1 Axes>"
      ]
     },
     "metadata": {
      "needs_background": "light"
     },
     "output_type": "display_data"
    }
   ],
   "source": [
    "_ = plt.hist(medical.charges)\n",
    "_ = plt.xlabel('charges')\n",
    "_ = plt.ylabel('frequency')\n",
    "_ = plt.title('Distribution of Charges')\n",
    "print('The charges are clearly not normally distributed, and show more of a decaying exponential behavior.' )"
   ]
  },
  {
   "cell_type": "code",
   "execution_count": 190,
   "metadata": {},
   "outputs": [
    {
     "name": "stdout",
     "output_type": "stream",
     "text": [
      "The mean is $13270.42 and standard deviation is $12110.01\n",
      "For the exponential distribution, the mean and standard deviation are equal.\n",
      "\n",
      "These statistics are not quite appropriate, as the exponential distribution arises from Poisson processes.\n",
      "For instance, it is not possible to look more than one standard deviation to the left of the mean, as going further       \n",
      "would lead into negative numbers.\n"
     ]
    }
   ],
   "source": [
    "charges_mean = round(medical.charges.mean(),2)\n",
    "charges_std = round(medical.charges.std(),2)\n",
    "print('The mean is $'+str(charges_mean)+' and standard deviation is $'+str(charges_std))\n",
    "print('For the exponential distribution, the mean and standard deviation are equal.')\n",
    "print('\\nThese statistics are not quite appropriate, as the exponential distribution arises from Poisson processes.')\n",
    "print('For instance, it is not possible to look more than one standard deviation to the left of the mean, as going further \\\n",
    "      \\nwould lead into negative numbers.')"
   ]
  },
  {
   "cell_type": "markdown",
   "metadata": {},
   "source": [
    "__Q:__ The administrator is concerned that the actual average charge has fallen below 12000, threatening the hospital's operational model. On the assumption that these data represent a random sample of charges, how would you justify that these data allow you to answer that question? And what would be the most appropriate frequentist test, of the ones discussed so far, to apply?"
   ]
  },
  {
   "cell_type": "code",
   "execution_count": 191,
   "metadata": {},
   "outputs": [
    {
     "name": "stdout",
     "output_type": "stream",
     "text": [
      "t-statistic: 3.8374  p-value: 0.0001  mode: 1639.56\n"
     ]
    }
   ],
   "source": [
    "t_stat,p_val = ttest_1samp(medical.charges,popmean=12000)\n",
    "mode = float(round(medical.charges.mode(),2))\n",
    "print('t-statistic:',round(t_stat,4),' p-value:',round(p_val,4),' mode:',mode)\n",
    "\n"
   ]
  },
  {
   "cell_type": "code",
   "execution_count": 192,
   "metadata": {},
   "outputs": [
    {
     "name": "stdout",
     "output_type": "stream",
     "text": [
      "\n",
      "Threshold percentile: 63.23  Sample mean percentile: 68.61\n",
      "\n",
      "The threshold is part of the 68.6% of charges that are below the sample mean. Another good indication.\n"
     ]
    }
   ],
   "source": [
    "ptile_threshold = round(percentileofscore(medical.charges,12000),2)\n",
    "ptile_mean = round(percentileofscore(medical.charges,charges_mean),2)\n",
    "print('\\nThreshold percentile:',ptile_threshold,' Sample mean percentile:',ptile_mean)\n",
    "print('\\nThe threshold is part of the 68.6% of charges that are below the sample mean. Another good indication.')"
   ]
  },
  {
   "cell_type": "code",
   "execution_count": 193,
   "metadata": {},
   "outputs": [
    {
     "name": "stdout",
     "output_type": "stream",
     "text": [
      "\n",
      "Charges under $12,000: 846  Charges $12,000 or more: 492\n",
      "\n",
      "Total under $12,000: $ 5190727.55  Total above $12,000: $ 12565097.44\n",
      "\n",
      "The raio between income from above and below the threshold is 2.421 . So almost 2.5 times more revenue is coming in from\n",
      "the higher charges, even though there are less of them. This is why the average is above $12,000 even though the majority of \n",
      "charges are for less than $12,000.\n",
      "\n"
     ]
    }
   ],
   "source": [
    "lsum=0\n",
    "usum=0\n",
    "for k,v in enumerate(medical.charges):\n",
    "    if v < 12000:\n",
    "        lsum += v\n",
    "    else:\n",
    "        usum += v\n",
    "\n",
    "under = len(medical.query('charges < 12000')['charges'])\n",
    "upper = len(medical.query('charges >= 12000')['charges'])\n",
    "\n",
    "print('\\nCharges under $12,000:',under,' Charges $12,000 or more:',upper)\n",
    "\n",
    "print('\\nTotal under $12,000: $',round(lsum,2),' Total above $12,000: $',round(usum,2))\n",
    "        \n",
    "print('\\nThe raio between income from above and below '\\\n",
    "      'the threshold is', round(usum/lsum,3),'. So almost 2.5 times more revenue is coming in from\\n'\\\n",
    "     'the higher charges, even though there are less of them. This is why the average is above' \\\n",
    "      ' $12,000 even though the majority of \\ncharges are for less than $12,000.\\n')"
   ]
  },
  {
   "cell_type": "markdown",
   "metadata": {},
   "source": [
    "__A:__"
   ]
  },
  {
   "cell_type": "markdown",
   "metadata": {},
   "source": [
    "To justify that these data are sufficient to use in answering the administrator's question, we can perform a t test and get the t-statistic and p-value. These will allow us to accept or reject the null hypothesis. Here, the null hypothesis is that the population mean is at $12,000 or below. \n",
    "\n",
    "The p-value of near zero is a strong statistical indication that we must reject the null hypothesis and accept the alternative hypothesis that the population mean is above $12,000."
   ]
  },
  {
   "cell_type": "markdown",
   "metadata": {},
   "source": [
    "The Central Limit Theorem also gives justification to the data, because we can sample the sample many times and get a distribution of means from the samples. This distribution of means will approach closer to the normal distribution as the sample size gets larger and larger. Using what we know about normal distributions, we can find a confidence interval for the mean. "
   ]
  },
  {
   "cell_type": "code",
   "execution_count": 194,
   "metadata": {},
   "outputs": [
    {
     "name": "stdout",
     "output_type": "stream",
     "text": [
      "\n",
      "Population standard deviation: $ 12110.01   Standard deviation of the mean: $ 331.07\n",
      "\n",
      "Since the mean charge is: $ 13270.42 , then one standard deviation lower is $ 12939.35 . This is well above the     \n",
      "$12,000 threshold of concern.\n"
     ]
    }
   ],
   "source": [
    "pop_std = round(medical.charges.std(ddof=1),2)\n",
    "mean_std = round(pop_std/np.sqrt(len(medical.charges)),2)\n",
    "print('\\nPopulation standard deviation: $',pop_std,'  Standard deviation of the mean: $',mean_std)\n",
    "diff = charges_mean-mean_std\n",
    "print('\\nSince the mean charge is: $',charges_mean,', then one standard deviation lower is $', diff,'. This is well above the\\\n",
    "     \\n$12,000 threshold of concern.')"
   ]
  },
  {
   "cell_type": "markdown",
   "metadata": {},
   "source": [
    "__Q:__ Given the nature of the administrator's concern, what is the appropriate confidence interval in this case? A one-sided or two-sided interval? Calculate the critical value and the relevant 95% confidence interval for the mean and comment on whether the administrator should be concerned?"
   ]
  },
  {
   "cell_type": "markdown",
   "metadata": {},
   "source": [
    "__A:__"
   ]
  },
  {
   "cell_type": "markdown",
   "metadata": {},
   "source": [
    "The confidence interval will be one sided because we are only interested in looking at charges that drop below $12,000. Any measure of confidence of 95\\% or greater should be sufficient to ensure that the interpretation is accurate. "
   ]
  },
  {
   "cell_type": "code",
   "execution_count": 195,
   "metadata": {},
   "outputs": [
    {
     "name": "stdout",
     "output_type": "stream",
     "text": [
      "\n",
      "The low end of the 95% confidence interval range is: $ 12725.49\n",
      "\n",
      "This is well above the threshold of concern.\n"
     ]
    }
   ],
   "source": [
    "crit = t.ppf(.05,df=len(medical.charges))\n",
    "\n",
    "norm_std = charges_std/np.sqrt(len(medical.charges))\n",
    "step = norm_std*crit\n",
    "low = round(charges_mean + step,2)\n",
    "print('\\nThe low end of the 95% confidence interval range is: $',low)\n",
    "print('\\nThis is well above the threshold of concern.')"
   ]
  },
  {
   "cell_type": "markdown",
   "metadata": {},
   "source": [
    "Both the p-value and the confidence interval should assuage the director's concerns. Both show that it is highly unlikely that the mean of the population has fallen below $12,000, and the hospital's business model is safe."
   ]
  },
  {
   "cell_type": "code",
   "execution_count": 196,
   "metadata": {},
   "outputs": [
    {
     "data": {
      "image/png": "[encoded data removed]",
      "text/plain": [
       "<Figure size 576x360 with 1 Axes>"
      ]
     },
     "metadata": {
      "needs_background": "light"
     },
     "output_type": "display_data"
    }
   ],
   "source": [
    "#First we sample the sample many times and take the mean of each to get a spectrum of means Then we plot a histogram:\n",
    "sample_list = [[np.random.choice(medical.charges,650)] for i in range(10000)]\n",
    "test_mean_lst = [np.mean(lst) for lst in sample_list]\n",
    "_=plt.figure(figsize=(8,5))\n",
    "_=plt.hist(test_mean_lst, bins=50)\n",
    "_=plt.axvline(charges_mean,c='black')\n",
    "_=plt.title('Distribution of Means')\n",
    "_=plt.xlabel('mean charge ($)')\n",
    "_=plt.ylabel('frequency')\n",
    "_=plt.legend(['sample mean'])\n"
   ]
  },
  {
   "cell_type": "markdown",
   "metadata": {},
   "source": [
    "The histogram shows a distribution that is normal in shape; this is predicted by the Central Limit Theorem. The sample mean is plotted as the vertical black line. We can see that the threshold of concern is on the far left of the distribution. First we will determine some summary statistics, then we will find the 95% confidence interval to ensure that the \\$12,000 threshold of concern lies outside of this interval. "
   ]
  },
  {
   "cell_type": "code",
   "execution_count": 197,
   "metadata": {},
   "outputs": [
    {
     "name": "stdout",
     "output_type": "stream",
     "text": [
      "\n",
      "The mean of means is: $ 13268.96  and the standard deviation of the means is: $ 474.024\n"
     ]
    }
   ],
   "source": [
    "test_mean = round(np.mean(test_mean_lst),3)\n",
    "test_std = round(np.std(test_mean_lst,ddof=1),3)\n",
    "print('\\nThe mean of means is: $',test_mean,' and the standard deviation of the means is: $',test_std)"
   ]
  },
  {
   "cell_type": "markdown",
   "metadata": {},
   "source": [
    "Let's assume that these are the mean and standard deviation of the normal distribution to which the population mean of means approaches. We can then use this normal distribution to determine the 95% confidence interal. First, let's find in which percentile \\$12,000 lies."
   ]
  },
  {
   "cell_type": "code",
   "execution_count": 198,
   "metadata": {},
   "outputs": [
    {
     "data": {
      "text/plain": [
       "12052.41"
      ]
     },
     "execution_count": 198,
     "metadata": {},
     "output_type": "execute_result"
    }
   ],
   "source": [
    "meansDF = pd.DataFrame(test_mean_lst,columns=['sample mean'])\n",
    "thresh_quant = round(float(meansDF.quantile(.0028)),2)\n",
    "thresh_quant"
   ]
  },
  {
   "cell_type": "markdown",
   "metadata": {},
   "source": [
    "We can see that the threshold of concern lies well below the 2.5 percentile. In fact, it lies closer to the .3 percentile, a factor of almost 10 less! This is a very good indicator that the data we are using is giving us a reliable picture of the total population. Let's find the confidence interval and make a plot showing the confidence interval and where \\$12,000 lies in comparison. "
   ]
  },
  {
   "cell_type": "code",
   "execution_count": 199,
   "metadata": {},
   "outputs": [
    {
     "data": {
      "text/plain": [
       "-1.96"
      ]
     },
     "execution_count": 199,
     "metadata": {},
     "output_type": "execute_result"
    }
   ],
   "source": [
    "#We can find the z-score using norm.ppf():\n",
    "z = round(norm.ppf(.025),3)\n",
    "z"
   ]
  },
  {
   "cell_type": "code",
   "execution_count": 200,
   "metadata": {},
   "outputs": [
    {
     "name": "stdout",
     "output_type": "stream",
     "text": [
      "The z-score calculation yields a 95% confidence interval range between $12339.87 and $14198.05\n"
     ]
    }
   ],
   "source": [
    "#Now we determine the confidence intermal:\n",
    "lower = round(test_mean + z*test_std,2)\n",
    "upper = round(test_mean - z*test_std,2)\n",
    "print('The z-score calculation yields a 95% confidence interval range between $' + str(lower) + ' and $' + str(upper))"
   ]
  },
  {
   "cell_type": "code",
   "execution_count": 201,
   "metadata": {},
   "outputs": [
    {
     "name": "stdout",
     "output_type": "stream",
     "text": [
      "The z-score calculation yields a 99% confidence interval range between $12166.24 and $14371.68\n",
      "The hospital administrator should find this very reassuring. $12,000 is below even the .3 percentile!\n"
     ]
    }
   ],
   "source": [
    "#For fun, and the administator's anxiety level, let's check the 99% confidence interval:\n",
    "z99 = round(norm.ppf(.01),4)\n",
    "lower = round(test_mean + z99*test_std,2)\n",
    "upper = round(test_mean - z99*test_std,2)\n",
    "print('The z-score calculation yields a 99% confidence interval range between $' + str(lower) + ' and $' + str(upper))\n",
    "print('The hospital administrator should find this very reassuring. $12,000 is below even the .3 percentile!')"
   ]
  },
  {
   "cell_type": "markdown",
   "metadata": {},
   "source": [
    "This tells us that we can be confident that in 99% of the samples we take, the mean will be above $12,000."
   ]
  },
  {
   "cell_type": "markdown",
   "metadata": {},
   "source": [
    "The t-test, charge comparisons, and confidence interval all show strong statistical evidence that the hospital's average charge has not fallen below $12,000, and the administrator should not be concerned.\n",
    "\n",
    "Below we see the threshold is well outside of the confidence interval."
   ]
  },
  {
   "cell_type": "code",
   "execution_count": 202,
   "metadata": {},
   "outputs": [
    {
     "data": {
      "image/png": "[encoded data removed]",
      "text/plain": [
       "<Figure size 576x360 with 1 Axes>"
      ]
     },
     "metadata": {
      "needs_background": "light"
     },
     "output_type": "display_data"
    }
   ],
   "source": [
    "_=plt.figure(figsize=(8,5))\n",
    "_=plt.hist(test_mean_lst, bins=50)\n",
    "_=plt.axvline(test_mean,c='black')\n",
    "_=plt.axvline(lower,c='green')\n",
    "_=plt.axvline(12000,c='r')\n",
    "_=plt.legend(['sample mean','.5th percentile','threshold'])\n",
    "_=plt.title('Distribution of Means')\n",
    "_=plt.xlabel('mean charge ($)')\n",
    "_=plt.ylabel('frequency')"
   ]
  },
  {
   "cell_type": "markdown",
   "metadata": {},
   "source": [
    "The administrator then wants to know whether people with insurance really are charged a different amount to those without.\n",
    "\n",
    "__Q:__ State the null and alternative hypothesis here. Use the _t_-test for the difference between means where the pooled standard deviation of the two groups is given by\n",
    "\\begin{equation}\n",
    "s_p = \\sqrt{\\frac{(n_0 - 1)s^2_0 + (n_1 - 1)s^2_1}{n_0 + n_1 - 2}}\n",
    "\\end{equation}\n",
    "\n",
    "and the *t* test statistic is then given by\n",
    "\n",
    "\\begin{equation}\n",
    "t = \\frac{\\bar{x}_0 - \\bar{x}_1}{s_p \\sqrt{1/n_0 + 1/n_1}}.\n",
    "\\end{equation}\n",
    "\n",
    "What assumption about the variances of the two groups are we making here?"
   ]
  },
  {
   "cell_type": "markdown",
   "metadata": {},
   "source": [
    "__A:__"
   ]
  },
  {
   "cell_type": "markdown",
   "metadata": {},
   "source": [
    "The null hypothesis is that the hospital charges the same amount to the two groups. The alternative hypothesis is that the hospital charges different amounts to both.\n",
    "\n",
    "We are making the assumption that each individual variance comes from a sample of the population, and is not the variance of the entire population. Bessel's correction has been applied: the denominator in the square root is the sum of the size of the two populations, minus one for each group's correction. We can also assume that the variances are equal. "
   ]
  },
  {
   "cell_type": "markdown",
   "metadata": {},
   "source": [
    "__Q:__ Perform this hypothesis test both manually, using the above formulae, and then using the appropriate function from [scipy.stats](https://docs.scipy.org/doc/scipy/reference/stats.html#statistical-tests) (hint, you're looking for a function to perform a _t_-test on two independent samples). For the manual approach, calculate the value of the test statistic and then its probability (the p-value). Verify you get the same results from both."
   ]
  },
  {
   "cell_type": "markdown",
   "metadata": {},
   "source": [
    "__A:__ "
   ]
  },
  {
   "cell_type": "code",
   "execution_count": 203,
   "metadata": {},
   "outputs": [
    {
     "name": "stdout",
     "output_type": "stream",
     "text": [
      "There are 783 insured cases and 555 uninsured cases.\n"
     ]
    }
   ],
   "source": [
    "#First we separate the insured from the uninsured, creating separate dataframes for each:\n",
    "insured = medical[medical['insuranceclaim']==1]\n",
    "uninsured = medical[medical['insuranceclaim']==0]\n",
    "print('There are',len(insured),'insured cases and',len(uninsured),'uninsured cases.')\n"
   ]
  },
  {
   "cell_type": "code",
   "execution_count": 204,
   "metadata": {},
   "outputs": [
    {
     "data": {
      "image/png": "[encoded data removed]",
      "text/plain": [
       "<Figure size 576x360 with 1 Axes>"
      ]
     },
     "metadata": {
      "needs_background": "light"
     },
     "output_type": "display_data"
    }
   ],
   "source": [
    "_=plt.figure(figsize=(8,5))\n",
    "_=plt.title('Insured vs Uninsured Charges')\n",
    "_=plt.hist(insured['charges'], histtype='step',bins=30)\n",
    "_=plt.hist(uninsured['charges'],histtype='step', bins=30)\n",
    "_=plt.legend(['insured','uninsured'])\n",
    "_=plt.xlabel('charge ($)')\n",
    "_=plt.ylabel('frequency')"
   ]
  },
  {
   "cell_type": "code",
   "execution_count": 205,
   "metadata": {},
   "outputs": [
    {
     "name": "stdout",
     "output_type": "stream",
     "text": [
      "The mean charge for the insured is $ 16423.93 and for uninsured is $ 8821.42\n",
      "This certainly doesn't look good at first glace. The ratio is 1.86 , almost double!\n"
     ]
    }
   ],
   "source": [
    "#Now we can find the summary statistics for each group:\n",
    "ins_mean = round(insured.charges.mean(),2)\n",
    "unins_mean = round(uninsured.charges.mean(),2)\n",
    "print('The mean charge for the insured is $',ins_mean,'and for uninsured is $',unins_mean)\n",
    "print('This certainly doesn\\'t look good at first glace. The ratio is',round(ins_mean/unins_mean,2),', almost double!')"
   ]
  },
  {
   "cell_type": "code",
   "execution_count": 206,
   "metadata": {},
   "outputs": [
    {
     "name": "stdout",
     "output_type": "stream",
     "text": [
      "The pooled standard deviation is 11520.0354 and the t score is 11.8933\n",
      "This is an extremely high t score, showing that there is a statistical difference between the two groups.\n"
     ]
    }
   ],
   "source": [
    "#Finding the standard deviations and computing the t test statistic we find:\n",
    "s0=round(insured.charges.std(),2)\n",
    "n0=len(insured.charges)\n",
    "s1=round(uninsured.charges.std(),2)\n",
    "n1=len(uninsured.charges)\n",
    "\n",
    "sp = np.sqrt(((n0-1)*s0**2 + (n1-1)*s1**2)/(n0 + n1 - 2))\n",
    "\n",
    "t_score = (ins_mean - unins_mean)/(sp*np.sqrt(1/n0 + 1/n1))\n",
    "\n",
    "print('The pooled standard deviation is',round(sp,4),'and the t score is', round(t_score,4))\n",
    "print('This is an extremely high t score, showing that there is a statistical difference between the two groups.')"
   ]
  },
  {
   "cell_type": "code",
   "execution_count": 207,
   "metadata": {},
   "outputs": [
    {
     "name": "stdout",
     "output_type": "stream",
     "text": [
      "The p-score is: 0.0 , again showing that we must reject the null hypothesis that insured and uninsured patients are charged the same.\n"
     ]
    }
   ],
   "source": [
    "#Computing the p-score:\n",
    "p = round(1 - t.cdf(t_score,df=n0+n1-2),2)\n",
    "print('The p-score is:',p,', again showing that we must reject the null hypothesis that insured and uninsured patients'\\\n",
    "      ' are charged the same.')"
   ]
  },
  {
   "cell_type": "code",
   "execution_count": 208,
   "metadata": {},
   "outputs": [
    {
     "name": "stdout",
     "output_type": "stream",
     "text": [
      "t-score: 11.8933    p-score: 0.0\n"
     ]
    }
   ],
   "source": [
    "#Now using the built-in scipy.stats ttest_ind function:\n",
    "t_test = ttest_ind(insured.charges,uninsured.charges)\n",
    "t_score2 = round(t_test[0],4)\n",
    "p2 = round(t_test[1],4)\n",
    "print('t-score:',t_score2,'   p-score:',p2)"
   ]
  },
  {
   "cell_type": "markdown",
   "metadata": {},
   "source": [
    "Congratulations! Hopefully you got the exact same numerical results. This shows that you correctly calculated the numbers by hand. Secondly, you used the correct function and saw that it's much easier to use. All you need to do pass your data to it."
   ]
  },
  {
   "cell_type": "markdown",
   "metadata": {},
   "source": [
    "__Q:__ In the above calculations, we assumed the sample variances were equal. We may well suspect they are not (we'll explore this in another assignment). The calculation becomes a little more complicated to do by hand in this case, but we now know of a helpful function. Check the documentation for the function to tell it not to assume equal variances and perform the test again."
   ]
  },
  {
   "cell_type": "markdown",
   "metadata": {},
   "source": [
    "__A:__"
   ]
  },
  {
   "cell_type": "code",
   "execution_count": 209,
   "metadata": {},
   "outputs": [
    {
     "name": "stdout",
     "output_type": "stream",
     "text": [
      "t-score: 13.298    p-score: 0.0\n"
     ]
    }
   ],
   "source": [
    "#Now using the built-in scipy.stats ttest_ind function:\n",
    "t_test = ttest_ind(insured.charges,uninsured.charges, equal_var=False)\n",
    "t_score2 = round(t_test[0],4)\n",
    "p2 = round(t_test[1],4)\n",
    "print('t-score:',t_score2,'   p-score:',p2)"
   ]
  },
  {
   "cell_type": "markdown",
   "metadata": {},
   "source": [
    "__Q:__ Conceptual question: look through the documentation for statistical test functions in scipy.stats. You'll see the above _t_-test for a sample, but can you see an equivalent one for performing a *z*-test from a sample? Comment on your answer."
   ]
  },
  {
   "cell_type": "markdown",
   "metadata": {},
   "source": [
    "__A:__"
   ]
  },
  {
   "cell_type": "markdown",
   "metadata": {},
   "source": [
    "The documentation for the scipy.stats statistical tests does not have a z-test function. It does, however, contain zmap and zscore functions in the Transformations section. So while the z functionality may not be categorized under statistical tests, scipy.stats still has a way of getting the z-scores. "
   ]
  },
  {
   "cell_type": "markdown",
   "metadata": {},
   "source": [
    "## Learning outcomes"
   ]
  },
  {
   "cell_type": "markdown",
   "metadata": {},
   "source": [
    "Having completed this project notebook, you now have good hands-on experience:\n",
    "* using the central limit theorem to help you apply frequentist techniques to answer questions that pertain to very non-normally distributed data from the real world\n",
    "* performing inference using such data to answer business questions\n",
    "* forming a hypothesis and framing the null and alternative hypotheses\n",
    "* testing this using a _t_-test"
   ]
  }
 ],
 "metadata": {
  "kernelspec": {
   "display_name": "Python 3",
   "language": "python",
   "name": "python3"
  },
  "language_info": {
   "codemirror_mode": {
    "name": "ipython",
    "version": 3
   },
   "file_extension": ".py",
   "mimetype": "text/x-python",
   "name": "python",
   "nbconvert_exporter": "python",
   "pygments_lexer": "ipython3",
   "version": "3.7.6"
  }
 },
 "nbformat": 4,
 "nbformat_minor": 2
}
